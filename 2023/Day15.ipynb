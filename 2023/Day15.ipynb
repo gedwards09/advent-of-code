{
 "cells": [
  {
   "cell_type": "code",
   "execution_count": 2,
   "metadata": {},
   "outputs": [],
   "source": [
    "def hash_(string):\n",
    "    h = 0\n",
    "    for char in string:\n",
    "        h += ord(char)\n",
    "        h *= 17\n",
    "        h %= 256\n",
    "    return h"
   ]
  },
  {
   "cell_type": "code",
   "execution_count": 3,
   "metadata": {},
   "outputs": [
    {
     "name": "stdout",
     "output_type": "stream",
     "text": [
      "514281\n"
     ]
    }
   ],
   "source": [
    "psum = 0\n",
    "for word in text.split(','):\n",
    "    psum += hash_(word)\n",
    "print(psum)"
   ]
  },
  {
   "cell_type": "code",
   "execution_count": 4,
   "metadata": {},
   "outputs": [],
   "source": [
    "from abc import ABC, abstractmethod\n",
    "class ILabeledData(ABC):\n",
    "    \n",
    "    @abstractmethod\n",
    "    def getName(self):\n",
    "        pass\n",
    "    \n",
    "    @abstractmethod\n",
    "    def getData(self):\n",
    "        pass\n",
    "    \n",
    "    @abstractmethod\n",
    "    def setData(self):\n",
    "        pass"
   ]
  },
  {
   "cell_type": "code",
   "execution_count": 5,
   "metadata": {},
   "outputs": [],
   "source": [
    "class Lens(ILabeledData):\n",
    "    \n",
    "    def __init__(self, name: str, length):\n",
    "        self._name = name\n",
    "        self._length = length\n",
    "        \n",
    "    def getName(self):\n",
    "        return self._name\n",
    "    \n",
    "    def getData(self):\n",
    "        return self._length\n",
    "    \n",
    "    def setData(self, length):\n",
    "        self._length = length"
   ]
  },
  {
   "cell_type": "code",
   "execution_count": 6,
   "metadata": {},
   "outputs": [],
   "source": [
    "class Node(ILabeledData):\n",
    "    \n",
    "    def __init__(self, data: ILabeledData):\n",
    "        self._data = data\n",
    "        self._next = None\n",
    "        \n",
    "    def getName(self):\n",
    "        return self._data.getName()\n",
    "    \n",
    "    def getData(self):\n",
    "        return self._data.getData()\n",
    "    \n",
    "    def setData(self, data):\n",
    "        self._data.setData(data)\n",
    "        \n",
    "    def getNext(self):\n",
    "        return self._next\n",
    "    \n",
    "    def setNext(self, node):\n",
    "        self._next = node"
   ]
  },
  {
   "cell_type": "code",
   "execution_count": 7,
   "metadata": {},
   "outputs": [],
   "source": [
    "class LinkedList:\n",
    "    \n",
    "    def __init__(self):\n",
    "        self._head = None\n",
    "        \n",
    "    def add(self, data: ILabeledData):\n",
    "        if Node == None:\n",
    "            raise Exception(\"Cannot add None object to LinkedList\")\n",
    "            \n",
    "        current = self._head\n",
    "        if current == None:\n",
    "            self._head = Node(data)\n",
    "        else:\n",
    "            while current != None:\n",
    "                if current.getName() == data.getName():\n",
    "                    current.setData(data.getData())\n",
    "                    break\n",
    "                elif current.getNext() == None:\n",
    "                    current.setNext(Node(data))\n",
    "                current = current.getNext()\n",
    "                \n",
    "    def remove(self, name: str):\n",
    "        current = self._head\n",
    "        if current == None:\n",
    "            return\n",
    "        elif current.getName() == name:\n",
    "            self._head = current.getNext()\n",
    "        else:\n",
    "            while current.getNext() != None:\n",
    "                if current.getNext().getName() == name:\n",
    "                    current.setNext(current.getNext().getNext())\n",
    "                    break\n",
    "                current = current.getNext()"
   ]
  },
  {
   "cell_type": "code",
   "execution_count": 8,
   "metadata": {},
   "outputs": [],
   "source": [
    "class HashTable:\n",
    "    \n",
    "    def __init__(self):\n",
    "        self._array = [LinkedList() for _ in range(256)]\n",
    "        \n",
    "    def add(self, data: ILabeledData):\n",
    "        h = hash_(data.getName())\n",
    "        linkedList = self._array[h]\n",
    "        linkedList.add(data)\n",
    "        \n",
    "    def remove(self, name: str):\n",
    "        h = hash_(name)\n",
    "        linkedList = self._array[h]\n",
    "        linkedList.remove(name)"
   ]
  },
  {
   "cell_type": "code",
   "execution_count": 9,
   "metadata": {},
   "outputs": [],
   "source": [
    "class LensBox(LinkedList):\n",
    "    \n",
    "    def getFocusingPower(self):\n",
    "        current = self._head\n",
    "        idx = 1\n",
    "        power = 0\n",
    "        while current != None:\n",
    "            power += idx * current.getData()\n",
    "            idx += 1\n",
    "            current = current.getNext()\n",
    "        return power"
   ]
  },
  {
   "cell_type": "code",
   "execution_count": 10,
   "metadata": {},
   "outputs": [],
   "source": [
    "class CompoundLens(HashTable):\n",
    "    def __init__(self):\n",
    "        self._array = [LensBox() for _ in range(256)]\n",
    "    \n",
    "    def getFocusingPower(self):\n",
    "        psum = 0\n",
    "        for i in range(len(self._array)):\n",
    "            lensBox = self._array[i]\n",
    "            psum += (i + 1) * lensBox.getFocusingPower()\n",
    "        return psum"
   ]
  },
  {
   "cell_type": "code",
   "execution_count": 11,
   "metadata": {},
   "outputs": [
    {
     "data": {
      "text/plain": [
       "244199"
      ]
     },
     "execution_count": 11,
     "metadata": {},
     "output_type": "execute_result"
    }
   ],
   "source": [
    "compoundLens = CompoundLens()\n",
    "for word in text.split(','):\n",
    "    if word[-1] == '-':\n",
    "        compoundLens.remove(word[:-1])\n",
    "    else:\n",
    "        name, length = word.split('=')\n",
    "        length = int(length)\n",
    "        compoundLens.add(Lens(name, length))\n",
    "compoundLens.getFocusingPower()"
   ]
  }
 ],
 "metadata": {
  "kernelspec": {
   "display_name": "Python 3",
   "language": "python",
   "name": "python3"
  },
  "language_info": {
   "codemirror_mode": {
    "name": "ipython",
    "version": 3
   },
   "file_extension": ".py",
   "mimetype": "text/x-python",
   "name": "python",
   "nbconvert_exporter": "python",
   "pygments_lexer": "ipython3",
   "version": "3.8.5"
  }
 },
 "nbformat": 4,
 "nbformat_minor": 4
}
