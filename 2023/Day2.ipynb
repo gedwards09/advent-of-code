{
 "cells": [
  {
   "cell_type": "code",
   "execution_count": 6,
   "metadata": {},
   "outputs": [
    {
     "name": "stdout",
     "output_type": "stream",
     "text": [
      "2285\n"
     ]
    }
   ],
   "source": [
    "allowed_dice = {}\n",
    "allowed_dice[\"red\"] = 12\n",
    "allowed_dice[\"green\"] = 13\n",
    "allowed_dice[\"blue\"] = 14\n",
    "\n",
    "arr = text.split('\\n')\n",
    "s = 0\n",
    "for line in arr:\n",
    "    ok = 1\n",
    "    post = line.split(':')\n",
    "    gamenum = int(post[0][5:])\n",
    "    for set in post[1].split(';'):\n",
    "        if ok == 0:\n",
    "            break\n",
    "        for dice in set.split(','):\n",
    "            el = dice.split(' ')\n",
    "            count = int(el[1])\n",
    "            type = el[2]\n",
    "            if int(el[1]) > allowed_dice[type]:\n",
    "                ok = 0\n",
    "                break\n",
    "    if ok == 1:\n",
    "        s += gamenum\n",
    "print(s)"
   ]
  },
  {
   "cell_type": "code",
   "execution_count": 12,
   "metadata": {},
   "outputs": [
    {
     "name": "stdout",
     "output_type": "stream",
     "text": [
      "77021\n"
     ]
    }
   ],
   "source": [
    "dic = {}\n",
    "def init_dic(dic):\n",
    "    dic[\"red\"] = 0\n",
    "    dic[\"green\"] = 0\n",
    "    dic[\"blue\"] = 0\n",
    "    return dic\n",
    "\n",
    "def get_power(dic):\n",
    "    return dic[\"red\"] * dic[\"green\"] * dic[\"blue\"]\n",
    "\n",
    "arr = text.split('\\n')\n",
    "s = 0\n",
    "for line in arr:\n",
    "    dic = init_dic(dic)\n",
    "    post = line.split(':')\n",
    "    gamenum = int(post[0][5:])\n",
    "    for set in post[1].split(';'):\n",
    "        for dice in set.split(','):\n",
    "            el = dice.split(' ')\n",
    "            count = int(el[1])\n",
    "            type = el[2]\n",
    "            if count > dic[type]:\n",
    "                dic[type] = count\n",
    "    s += get_power(dic)\n",
    "print(s)"
   ]
  },
  {
   "cell_type": "code",
   "execution_count": null,
   "metadata": {},
   "outputs": [],
   "source": []
  }
 ],
 "metadata": {
  "kernelspec": {
   "display_name": "Python 3",
   "language": "python",
   "name": "python3"
  },
  "language_info": {
   "codemirror_mode": {
    "name": "ipython",
    "version": 3
   },
   "file_extension": ".py",
   "mimetype": "text/x-python",
   "name": "python",
   "nbconvert_exporter": "python",
   "pygments_lexer": "ipython3",
   "version": "3.8.5"
  }
 },
 "nbformat": 4,
 "nbformat_minor": 4
}
