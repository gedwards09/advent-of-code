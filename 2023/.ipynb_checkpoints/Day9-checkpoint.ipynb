{
 "cells": [
  {
   "cell_type": "code",
   "execution_count": 2,
   "metadata": {},
   "outputs": [],
   "source": [
    "class Predictor:\n",
    "    \n",
    "    def __init__(self, line):\n",
    "        elements = line.split(' ')\n",
    "        self._length = len(elements)\n",
    "        self._memo = {}\n",
    "        for j in range(self._length):\n",
    "            self._memo[(0, j)] = int(elements[j])\n",
    "            for i in range(1, j + 1):\n",
    "                self._memo[(i, j - i)] = self._memo[(i - 1, j - i + 1)] - self._memo[(i - 1, j - i)]\n",
    "        self._memo[(self._length, 0)] = 0\n",
    "        \n",
    "    def predict(self):\n",
    "        return self.rPredict(0, self._length)\n",
    "    \n",
    "    def rPredict(self, i, j):\n",
    "        if (i, j) in self._memo:\n",
    "            return self._memo[(i, j)]\n",
    "        out = self.rPredict(i, j - 1) + self.rPredict(i + 1, j - 1)\n",
    "        self._memo[(i, j)] = out\n",
    "        return out"
   ]
  },
  {
   "cell_type": "code",
   "execution_count": 3,
   "metadata": {},
   "outputs": [
    {
     "name": "stdout",
     "output_type": "stream",
     "text": [
      "1980437560\n"
     ]
    }
   ],
   "source": [
    "psum = 0\n",
    "for line in text.split('\\n'):\n",
    "    p = Predictor(line)\n",
    "    out = p.predict()\n",
    "    psum += out\n",
    "print(psum)"
   ]
  },
  {
   "cell_type": "code",
   "execution_count": 4,
   "metadata": {},
   "outputs": [],
   "source": [
    "class BackwardPredictor(Predictor):\n",
    "    \n",
    "    def predict(self):\n",
    "        return self.rBackwardPredict(0, -1)\n",
    "    \n",
    "    def rBackwardPredict(self, i, j):\n",
    "        if (i, j) in self._memo:\n",
    "            return self._memo[(i, j)]\n",
    "        if i >= self._length:\n",
    "            out = 0\n",
    "        else:\n",
    "            out = self.rBackwardPredict(i, j + 1) - self.rBackwardPredict(i + 1, j)\n",
    "        self._memo[(i,j)] = out\n",
    "        return out    "
   ]
  },
  {
   "cell_type": "code",
   "execution_count": 5,
   "metadata": {},
   "outputs": [
    {
     "name": "stdout",
     "output_type": "stream",
     "text": [
      "977\n"
     ]
    }
   ],
   "source": [
    "psum = 0\n",
    "for line in text.split('\\n'):\n",
    "    p = BackwardPredictor(line)\n",
    "    out = p.predict()\n",
    "    psum += out\n",
    "print(psum)"
   ]
  }
 ],
 "metadata": {
  "kernelspec": {
   "display_name": "Python 3",
   "language": "python",
   "name": "python3"
  },
  "language_info": {
   "codemirror_mode": {
    "name": "ipython",
    "version": 3
   },
   "file_extension": ".py",
   "mimetype": "text/x-python",
   "name": "python",
   "nbconvert_exporter": "python",
   "pygments_lexer": "ipython3",
   "version": "3.8.5"
  }
 },
 "nbformat": 4,
 "nbformat_minor": 4
}
