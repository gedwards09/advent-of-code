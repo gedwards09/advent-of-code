{
 "cells": [
  {
   "cell_type": "code",
   "execution_count": 2,
   "metadata": {},
   "outputs": [],
   "source": [
    "class Scratchcard:\n",
    "    \n",
    "    def getWinningNumberCount(line):\n",
    "        arr = line.split(' ')\n",
    "        hash = {}\n",
    "        areMyNumbers = False\n",
    "        count = 0\n",
    "        for el in arr:\n",
    "            if len(el) == 0:\n",
    "                continue\n",
    "            if el[0] == '|':\n",
    "                areMyNumbers = True\n",
    "                continue\n",
    "            try:\n",
    "                num = int(el)\n",
    "            except ValueError: ## catch non-numeric entried\n",
    "                continue\n",
    "            if not areMyNumbers:\n",
    "                hash[num] = 1\n",
    "            elif num in hash:\n",
    "                count += 1\n",
    "        return count\n",
    "    \n",
    "    def getPointsFromWinningNumberCount(count):\n",
    "        if count == 0:\n",
    "            return 0\n",
    "        return 2**(count - 1)"
   ]
  },
  {
   "cell_type": "code",
   "execution_count": 3,
   "metadata": {},
   "outputs": [
    {
     "name": "stdout",
     "output_type": "stream",
     "text": [
      "25174\n"
     ]
    }
   ],
   "source": [
    "textarr = text.split('\\n')\n",
    "totalPoints = 0\n",
    "for line in textarr:\n",
    "    count = Scratchcard.getWinningNumberCount(line)\n",
    "    totalPoints += Scratchcard.getPointsFromWinningNumberCount(count)\n",
    "print(totalPoints)"
   ]
  },
  {
   "cell_type": "code",
   "execution_count": 4,
   "metadata": {},
   "outputs": [],
   "source": [
    "class Scratchcards(Scratchcard):\n",
    "\n",
    "    def __init__(self, lines):\n",
    "        self.lines = lines\n",
    "        self.rowWinningNumberCountMemo = {}\n",
    "        self.rowScratchcardCountMemo = {}\n",
    "\n",
    "    def getWinningNumberCount(self, rownum):\n",
    "        if rownum in self.rowWinningNumberCountMemo:\n",
    "            return self.rowWinningNumberCountMemo[rownum]\n",
    "        count = Scratchcard.getWinningNumberCount(self.lines[rownum])\n",
    "        self.rowWinningNumberCountMemo[rownum] = count\n",
    "        return count\n",
    "\n",
    "    def getScratchcardCount(self, rownum):\n",
    "        if rownum in self.rowScratchcardCountMemo:\n",
    "            return self.rowScratchcardCountMemo[rownum]\n",
    "        winningNumberCount = self.getWinningNumberCount(rownum)\n",
    "        scratchcardCount = 1\n",
    "        for i in range(winningNumberCount):\n",
    "            scratchcardCount += self.getScratchcardCount(rownum + 1 + i)\n",
    "        self.rowScratchcardCountMemo[rownum] = scratchcardCount\n",
    "        return scratchcardCount"
   ]
  },
  {
   "cell_type": "code",
   "execution_count": 5,
   "metadata": {},
   "outputs": [
    {
     "name": "stdout",
     "output_type": "stream",
     "text": [
      "6420979\n"
     ]
    }
   ],
   "source": [
    "lines = text.split('\\n')\n",
    "scratchcards = Scratchcards(lines)\n",
    "totalScratchcards = 0\n",
    "for i in range(len(lines)):\n",
    "     totalScratchcards += scratchcards.getScratchcardCount(i)\n",
    "print(totalScratchcards)"
   ]
  }
 ],
 "metadata": {
  "kernelspec": {
   "display_name": "Python 3",
   "language": "python",
   "name": "python3"
  },
  "language_info": {
   "codemirror_mode": {
    "name": "ipython",
    "version": 3
   },
   "file_extension": ".py",
   "mimetype": "text/x-python",
   "name": "python",
   "nbconvert_exporter": "python",
   "pygments_lexer": "ipython3",
   "version": "3.8.5"
  }
 },
 "nbformat": 4,
 "nbformat_minor": 5
}
