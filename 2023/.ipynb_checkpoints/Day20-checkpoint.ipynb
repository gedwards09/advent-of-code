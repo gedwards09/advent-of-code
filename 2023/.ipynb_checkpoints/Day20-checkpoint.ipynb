{
 "cells": [
  {
   "cell_type": "code",
   "execution_count": 64,
   "metadata": {},
   "outputs": [],
   "source": [
    "text = \"\"\"%ls -> cs, jd\n",
    "%st -> jh, bj\n",
    "%hc -> tn\n",
    "%xs -> rr\n",
    "%pq -> tl, cs\n",
    "%rj -> km, ck\n",
    "%lb -> cg\n",
    "%zz -> dx, ch\n",
    "%kk -> cs, tc\n",
    "%hr -> ck, pl\n",
    "%pj -> cs, pr\n",
    "%pr -> zl, cs\n",
    "%tl -> vn, cs\n",
    "%tc -> cs, hn\n",
    "&cs -> hn, pj, qb, zl\n",
    "%lv -> hr\n",
    "%vn -> cs, ls\n",
    "&mp -> dr\n",
    "broadcaster -> ns, pj, xz, sg\n",
    "%gg -> jh, nx\n",
    "%cr -> jg, jh\n",
    "%ch -> dx\n",
    "&dx -> zj, xz, mp, zn, xs, hc\n",
    "%fl -> jh, ps\n",
    "%hn -> pq\n",
    "%qp -> dx, zj\n",
    "%bp -> zr\n",
    "%kl -> lb\n",
    "%pl -> ck, xq\n",
    "%rm -> zz, dx\n",
    "%rz -> jh, fl\n",
    "%pm -> cs, kk\n",
    "%zl -> pm\n",
    "%rk -> ck, kl\n",
    "&dr -> rx\n",
    "%cg -> lv, ck\n",
    "&qt -> dr\n",
    "%jg -> jh\n",
    "&qb -> dr\n",
    "&ck -> lb, lv, ns, kl, qt\n",
    "%zr -> st\n",
    "%dd -> dx, qp\n",
    "%kd -> rk, ck\n",
    "%xq -> rj, ck\n",
    "%sg -> rz, jh\n",
    "%zj -> hc\n",
    "%tn -> dx, xs\n",
    "%jd -> cs\n",
    "%rr -> rm, dx\n",
    "&jh -> ng, bp, zr, sg, bj\n",
    "%km -> ck\n",
    "%ps -> bp, jh\n",
    "%zn -> dd\n",
    "%bj -> gg\n",
    "%nx -> jh, cr\n",
    "%xz -> dx, zn\n",
    "&ng -> dr\n",
    "%ns -> ck, kd\"\"\""
   ]
  },
  {
   "cell_type": "code",
   "execution_count": 54,
   "metadata": {},
   "outputs": [],
   "source": [
    "class Pulse:\n",
    "    Low = 0\n",
    "    High = 1\n",
    "    \n",
    "    def Not(state):\n",
    "        if state == Pulse.Low:\n",
    "            return Pulse.High\n",
    "        elif state == Pulse.High:\n",
    "            return Pulse.Low\n",
    "        else:\n",
    "            return state"
   ]
  },
  {
   "cell_type": "code",
   "execution_count": 55,
   "metadata": {},
   "outputs": [],
   "source": [
    "from abc import ABC, abstractmethod\n",
    "class IModule(ABC):\n",
    "    \n",
    "    @abstractmethod\n",
    "    def inputSignal(self, signal: int, origin: str = None):\n",
    "        pass\n",
    "    \n",
    "    @abstractmethod\n",
    "    def outputSignal(self):\n",
    "        pass"
   ]
  },
  {
   "cell_type": "code",
   "execution_count": 56,
   "metadata": {},
   "outputs": [],
   "source": [
    "class Module(IModule):\n",
    "    \n",
    "    def __init__(self, line):\n",
    "        info = line.split(' -> ')\n",
    "        self._name = info[0]\n",
    "        self._state = Pulse.Low\n",
    "        if len(info) == 1:\n",
    "            self._connectionNames = []\n",
    "        else:\n",
    "            self._connectionNames = info[1].split(', ')\n",
    "        \n",
    "    def getName(self):\n",
    "        return self._name\n",
    "    \n",
    "    def getState(self):\n",
    "        return self._state\n",
    "    \n",
    "    def setState(self, state):\n",
    "        self._state = state\n",
    "    \n",
    "    def enumerateConnectionNames(self):\n",
    "        for name in self._connectionNames:\n",
    "            yield name\n",
    "    \n",
    "    def setConnectionNames(self, cxnList):\n",
    "        self._connectionNames = cxnList\n",
    "        \n",
    "    #default behavior: do nothing unless override implemented\n",
    "    def addInputConnection(self, connectionName):\n",
    "        return\n",
    "    \n",
    "    #Override\n",
    "    def inputSignal(self, signal: int, origin: str = None):\n",
    "        self.setState(signal)\n",
    "    \n",
    "    #Override\n",
    "    def outputSignal(self):\n",
    "        return self.getState()"
   ]
  },
  {
   "cell_type": "code",
   "execution_count": 57,
   "metadata": {},
   "outputs": [],
   "source": [
    "class FlipFlopModule(Module):\n",
    "    \n",
    "    def __init__(self, line):\n",
    "        super().__init__(line)\n",
    "        self._lastSignal = Pulse.Low\n",
    "    \n",
    "    #Override\n",
    "    def inputSignal(self, signal: int, origin: str = None):\n",
    "        self._lastSignal = signal\n",
    "        state = self.getState()\n",
    "        if signal == Pulse.Low:\n",
    "            self.setState(Pulse.Not(state))\n",
    "            \n",
    "    #Override\n",
    "    def outputSignal(self):\n",
    "        if self._lastSignal == Pulse.Low:\n",
    "            return self.getState()\n",
    "        return None"
   ]
  },
  {
   "cell_type": "code",
   "execution_count": 58,
   "metadata": {},
   "outputs": [],
   "source": [
    "class ConjunctionModule(Module):\n",
    "    \n",
    "    def __init__(self, line):\n",
    "        super().__init__(line)\n",
    "        self._inputConnectionStates = {}\n",
    "    \n",
    "    #Override\n",
    "    def addInputConnection(self, connectionName):\n",
    "        if not connectionName in self._inputConnectionStates:\n",
    "            self._inputConnectionStates[connectionName] = Pulse.Low\n",
    "    \n",
    "    #Override\n",
    "    def inputSignal(self, signal: int, origin: str = None):\n",
    "        if origin not in self._inputConnectionStates:\n",
    "            raise Exception(\\\n",
    "                \"ConjunctionModule {0} recieved signal from unexpected origin {1}\"\\\n",
    "                 .format(self.getName(), origin))\n",
    "        self._inputConnectionStates[origin] = signal\n",
    "        \n",
    "    #Override\n",
    "    def outputSignal(self):\n",
    "        for name in self._inputConnectionStates:\n",
    "            if self._inputConnectionStates[name] == Pulse.Low:\n",
    "                return Pulse.High\n",
    "        return Pulse.Low"
   ]
  },
  {
   "cell_type": "code",
   "execution_count": 59,
   "metadata": {},
   "outputs": [],
   "source": [
    "class ModuleFactory:\n",
    "    \n",
    "    def make(line):\n",
    "        char = line[0]\n",
    "        if char == '%':\n",
    "            return FlipFlopModule(line[1:])\n",
    "        if char == '&':\n",
    "            return ConjunctionModule(line[1:])\n",
    "        else:\n",
    "            return Module(line)"
   ]
  },
  {
   "cell_type": "code",
   "execution_count": 60,
   "metadata": {},
   "outputs": [],
   "source": [
    "class DesertMachine:\n",
    "    \n",
    "    s_initialModuleName = \"broadcaster\"\n",
    "    \n",
    "    def __init__(self, text):\n",
    "        self._moduleIndex = {}\n",
    "        self.initModuleIndex(text)\n",
    "        self.updateInputConnections()\n",
    "        self._queue = []\n",
    "        self._pulseCount = self.initPulseCount()\n",
    "        \n",
    "    def initModuleIndex(self, text):\n",
    "        for line in text.split('\\n'):\n",
    "            self.makeModule(line)\n",
    "        return self._moduleIndex\n",
    "    \n",
    "    def makeModule(self, line):\n",
    "        module = ModuleFactory.make(line)\n",
    "        self._moduleIndex[module.getName()] = module\n",
    "        \n",
    "    def updateInputConnections(self):\n",
    "        addNames = []\n",
    "        for name in self._moduleIndex:\n",
    "            module = self._moduleIndex[name]\n",
    "            for cxnName in module.enumerateConnectionNames():\n",
    "                if cxnName not in self._moduleIndex:\n",
    "                    # no output connection, add additional modules at the end\n",
    "                    addNames.append(cxnName)\n",
    "                    continue\n",
    "                cxnModule = self._moduleIndex[cxnName]\n",
    "                cxnModule.addInputConnection(name)\n",
    "        #add any FakeModule connections\n",
    "        for name in addNames:\n",
    "            self.makeModule(name)\n",
    "            \n",
    "    def getModule(self, name):\n",
    "        return self._moduleIndex[name]\n",
    "    \n",
    "    def enumerateModuleNames(self):\n",
    "        for name in self._moduleIndex:\n",
    "            yield name\n",
    "    \n",
    "    def initPulseCount(self):\n",
    "        return {Pulse.Low:0, Pulse.High:0}\n",
    "    \n",
    "    def execute(self, times = 1000):\n",
    "        for i in range(times):\n",
    "            self._queue = self.initQueue()\n",
    "            self.rExecute()\n",
    "        return self.getHighCountTimesLowCount()\n",
    "                \n",
    "    def rExecute(self):\n",
    "        while len(self._queue) > 0:\n",
    "            name, signal, origin = self._queue.pop(0)\n",
    "            self.signalModule(name, signal, origin)\n",
    "    \n",
    "    def initQueue(self):\n",
    "        return [(DesertMachine.s_initialModuleName, Pulse.Low, None)]\n",
    "            \n",
    "    def signalModule(self, name, signal, origin):\n",
    "        module = self._moduleIndex[name]\n",
    "        module.inputSignal(signal, origin)\n",
    "        self.countSignal(signal)\n",
    "        self.queueConnectionSignals(module)\n",
    "        \n",
    "    def countSignal(self, signal):\n",
    "        self._pulseCount[signal] += 1\n",
    "    \n",
    "    def queueConnectionSignals(self, module: IModule):\n",
    "        signal = module.outputSignal()\n",
    "        if signal == None:\n",
    "            return\n",
    "        origin = module.getName()\n",
    "        for name in module.enumerateConnectionNames():\n",
    "            self.queue(name, signal, origin)\n",
    "            \n",
    "    def queue(self, name, signal, origin):\n",
    "        self._queue.append((name, signal, origin))\n",
    "    \n",
    "    def pulseCountMultiples(self, times):\n",
    "        self._pulseCount[Pulse.High] *= times\n",
    "        self._pulseCount[Pulse.Low] *= times\n",
    "        \n",
    "    def printState(self):\n",
    "        for name in self._moduleIndex:\n",
    "            module = self._moduleIndex[name]\n",
    "            print(name, module.getState())\n",
    "            \n",
    "    def getHighCountTimesLowCount(self):\n",
    "        return self._pulseCount[Pulse.High] * self._pulseCount[Pulse.Low]\n",
    "    \n",
    "    def getInitialModuleName(self):\n",
    "        return DesertMachine.s_initialModuleName"
   ]
  },
  {
   "cell_type": "code",
   "execution_count": 61,
   "metadata": {},
   "outputs": [],
   "source": [
    "text = \"\"\"broadcaster -> a, b, c\n",
    "%a -> b\n",
    "%b -> c\n",
    "%c -> inv\n",
    "&inv -> a\"\"\""
   ]
  },
  {
   "cell_type": "code",
   "execution_count": 62,
   "metadata": {},
   "outputs": [],
   "source": [
    "text = \"\"\"broadcaster -> a\n",
    "%a -> inv, con\n",
    "&inv -> b\n",
    "%b -> con\n",
    "&con -> output\"\"\""
   ]
  },
  {
   "cell_type": "code",
   "execution_count": 65,
   "metadata": {},
   "outputs": [
    {
     "data": {
      "text/plain": [
       "919383692"
      ]
     },
     "execution_count": 65,
     "metadata": {},
     "output_type": "execute_result"
    }
   ],
   "source": [
    "desertMachine = DesertMachine(text)\n",
    "desertMachine.execute()"
   ]
  },
  {
   "cell_type": "code",
   "execution_count": 77,
   "metadata": {},
   "outputs": [],
   "source": [
    "import math\n",
    "class QuickDesertMachine(DesertMachine):\n",
    "    \n",
    "    s_starterModuleName = \"rx\"\n",
    "    \n",
    "    def __init__(self, text):\n",
    "        super().__init__(text)\n",
    "    \n",
    "    #Override\n",
    "    def execute(self, times = None):\n",
    "        initialModuleName = self.getInitialModuleName()\n",
    "        initialModule = self.getModule(initialModuleName)\n",
    "        currentPeriod = 1\n",
    "        for moduleName in initialModule.enumerateConnectionNames():\n",
    "            print(moduleName)\n",
    "            period = self.getPeriodForModule(moduleName)\n",
    "            print(moduleName, period)\n",
    "            currentPeriod = QuickDesertMachine.lcm(currentPeriod, period)\n",
    "            \n",
    "    def getPeriodForModule(self, moduleName):\n",
    "        i = 0\n",
    "        while i == 0 or not self.isStateOff():\n",
    "            self._queue = self.initQueueForModule(moduleName)\n",
    "            self.rExecute()\n",
    "            i += 1\n",
    "        return i\n",
    "        \n",
    "    def isStateOff(self):\n",
    "        for name in self._moduleIndex:\n",
    "            module = self._moduleIndex[name]\n",
    "            if module.getState() == Pulse.High:\n",
    "                return False\n",
    "        return True\n",
    "        \n",
    "    def initQueueForModule(self, moduleName):\n",
    "        return [(moduleName, Pulse.Low, self.getInitialModuleName())]\n",
    "    \n",
    "    def lcm(a, b):\n",
    "        return (a * b) // math.gcd(a, b)"
   ]
  },
  {
   "cell_type": "code",
   "execution_count": 78,
   "metadata": {},
   "outputs": [
    {
     "name": "stdout",
     "output_type": "stream",
     "text": [
      "ns\n"
     ]
    },
    {
     "ename": "KeyboardInterrupt",
     "evalue": "",
     "output_type": "error",
     "traceback": [
      "\u001b[1;31m---------------------------------------------------------------------------\u001b[0m",
      "\u001b[1;31mKeyboardInterrupt\u001b[0m                         Traceback (most recent call last)",
      "\u001b[1;32m<ipython-input-78-eeb409ed29d6>\u001b[0m in \u001b[0;36m<module>\u001b[1;34m\u001b[0m\n\u001b[0;32m      1\u001b[0m \u001b[0mquickDesertMachine\u001b[0m \u001b[1;33m=\u001b[0m \u001b[0mQuickDesertMachine\u001b[0m\u001b[1;33m(\u001b[0m\u001b[0mtext\u001b[0m\u001b[1;33m)\u001b[0m\u001b[1;33m\u001b[0m\u001b[1;33m\u001b[0m\u001b[0m\n\u001b[1;32m----> 2\u001b[1;33m \u001b[0mquickDesertMachine\u001b[0m\u001b[1;33m.\u001b[0m\u001b[0mexecute\u001b[0m\u001b[1;33m(\u001b[0m\u001b[1;33m)\u001b[0m\u001b[1;33m\u001b[0m\u001b[1;33m\u001b[0m\u001b[0m\n\u001b[0m",
      "\u001b[1;32m<ipython-input-77-d21773bfcca8>\u001b[0m in \u001b[0;36mexecute\u001b[1;34m(self, times)\u001b[0m\n\u001b[0;32m     14\u001b[0m         \u001b[1;32mfor\u001b[0m \u001b[0mmoduleName\u001b[0m \u001b[1;32min\u001b[0m \u001b[0minitialModule\u001b[0m\u001b[1;33m.\u001b[0m\u001b[0menumerateConnectionNames\u001b[0m\u001b[1;33m(\u001b[0m\u001b[1;33m)\u001b[0m\u001b[1;33m:\u001b[0m\u001b[1;33m\u001b[0m\u001b[1;33m\u001b[0m\u001b[0m\n\u001b[0;32m     15\u001b[0m             \u001b[0mprint\u001b[0m\u001b[1;33m(\u001b[0m\u001b[0mmoduleName\u001b[0m\u001b[1;33m)\u001b[0m\u001b[1;33m\u001b[0m\u001b[1;33m\u001b[0m\u001b[0m\n\u001b[1;32m---> 16\u001b[1;33m             \u001b[0mperiod\u001b[0m \u001b[1;33m=\u001b[0m \u001b[0mself\u001b[0m\u001b[1;33m.\u001b[0m\u001b[0mgetPeriodForModule\u001b[0m\u001b[1;33m(\u001b[0m\u001b[0mmoduleName\u001b[0m\u001b[1;33m)\u001b[0m\u001b[1;33m\u001b[0m\u001b[1;33m\u001b[0m\u001b[0m\n\u001b[0m\u001b[0;32m     17\u001b[0m             \u001b[0mprint\u001b[0m\u001b[1;33m(\u001b[0m\u001b[0mmoduleName\u001b[0m\u001b[1;33m,\u001b[0m \u001b[0mperiod\u001b[0m\u001b[1;33m)\u001b[0m\u001b[1;33m\u001b[0m\u001b[1;33m\u001b[0m\u001b[0m\n\u001b[0;32m     18\u001b[0m             \u001b[0mcurrentPeriod\u001b[0m \u001b[1;33m=\u001b[0m \u001b[0mQuickDesertMachine\u001b[0m\u001b[1;33m.\u001b[0m\u001b[0mlcm\u001b[0m\u001b[1;33m(\u001b[0m\u001b[0mcurrentPeriod\u001b[0m\u001b[1;33m,\u001b[0m \u001b[0mperiod\u001b[0m\u001b[1;33m)\u001b[0m\u001b[1;33m\u001b[0m\u001b[1;33m\u001b[0m\u001b[0m\n",
      "\u001b[1;32m<ipython-input-77-d21773bfcca8>\u001b[0m in \u001b[0;36mgetPeriodForModule\u001b[1;34m(self, moduleName)\u001b[0m\n\u001b[0;32m     22\u001b[0m         \u001b[1;32mwhile\u001b[0m \u001b[0mi\u001b[0m \u001b[1;33m==\u001b[0m \u001b[1;36m0\u001b[0m \u001b[1;32mor\u001b[0m \u001b[1;32mnot\u001b[0m \u001b[0mself\u001b[0m\u001b[1;33m.\u001b[0m\u001b[0misStateOff\u001b[0m\u001b[1;33m(\u001b[0m\u001b[1;33m)\u001b[0m\u001b[1;33m:\u001b[0m\u001b[1;33m\u001b[0m\u001b[1;33m\u001b[0m\u001b[0m\n\u001b[0;32m     23\u001b[0m             \u001b[0mself\u001b[0m\u001b[1;33m.\u001b[0m\u001b[0m_queue\u001b[0m \u001b[1;33m=\u001b[0m \u001b[0mself\u001b[0m\u001b[1;33m.\u001b[0m\u001b[0minitQueueForModule\u001b[0m\u001b[1;33m(\u001b[0m\u001b[0mmoduleName\u001b[0m\u001b[1;33m)\u001b[0m\u001b[1;33m\u001b[0m\u001b[1;33m\u001b[0m\u001b[0m\n\u001b[1;32m---> 24\u001b[1;33m             \u001b[0mself\u001b[0m\u001b[1;33m.\u001b[0m\u001b[0mrExecute\u001b[0m\u001b[1;33m(\u001b[0m\u001b[1;33m)\u001b[0m\u001b[1;33m\u001b[0m\u001b[1;33m\u001b[0m\u001b[0m\n\u001b[0m\u001b[0;32m     25\u001b[0m             \u001b[0mi\u001b[0m \u001b[1;33m+=\u001b[0m \u001b[1;36m1\u001b[0m\u001b[1;33m\u001b[0m\u001b[1;33m\u001b[0m\u001b[0m\n\u001b[0;32m     26\u001b[0m         \u001b[1;32mreturn\u001b[0m \u001b[0mi\u001b[0m\u001b[1;33m\u001b[0m\u001b[1;33m\u001b[0m\u001b[0m\n",
      "\u001b[1;32m<ipython-input-60-cb0a2be982fc>\u001b[0m in \u001b[0;36mrExecute\u001b[1;34m(self)\u001b[0m\n\u001b[0;32m     60\u001b[0m         \u001b[1;32mwhile\u001b[0m \u001b[0mlen\u001b[0m\u001b[1;33m(\u001b[0m\u001b[0mself\u001b[0m\u001b[1;33m.\u001b[0m\u001b[0m_queue\u001b[0m\u001b[1;33m)\u001b[0m \u001b[1;33m>\u001b[0m \u001b[1;36m0\u001b[0m\u001b[1;33m:\u001b[0m\u001b[1;33m\u001b[0m\u001b[1;33m\u001b[0m\u001b[0m\n\u001b[0;32m     61\u001b[0m             \u001b[0mname\u001b[0m\u001b[1;33m,\u001b[0m \u001b[0msignal\u001b[0m\u001b[1;33m,\u001b[0m \u001b[0morigin\u001b[0m \u001b[1;33m=\u001b[0m \u001b[0mself\u001b[0m\u001b[1;33m.\u001b[0m\u001b[0m_queue\u001b[0m\u001b[1;33m.\u001b[0m\u001b[0mpop\u001b[0m\u001b[1;33m(\u001b[0m\u001b[1;36m0\u001b[0m\u001b[1;33m)\u001b[0m\u001b[1;33m\u001b[0m\u001b[1;33m\u001b[0m\u001b[0m\n\u001b[1;32m---> 62\u001b[1;33m             \u001b[0mself\u001b[0m\u001b[1;33m.\u001b[0m\u001b[0msignalModule\u001b[0m\u001b[1;33m(\u001b[0m\u001b[0mname\u001b[0m\u001b[1;33m,\u001b[0m \u001b[0msignal\u001b[0m\u001b[1;33m,\u001b[0m \u001b[0morigin\u001b[0m\u001b[1;33m)\u001b[0m\u001b[1;33m\u001b[0m\u001b[1;33m\u001b[0m\u001b[0m\n\u001b[0m\u001b[0;32m     63\u001b[0m \u001b[1;33m\u001b[0m\u001b[0m\n\u001b[0;32m     64\u001b[0m     \u001b[1;32mdef\u001b[0m \u001b[0minitQueue\u001b[0m\u001b[1;33m(\u001b[0m\u001b[0mself\u001b[0m\u001b[1;33m)\u001b[0m\u001b[1;33m:\u001b[0m\u001b[1;33m\u001b[0m\u001b[1;33m\u001b[0m\u001b[0m\n",
      "\u001b[1;32m<ipython-input-60-cb0a2be982fc>\u001b[0m in \u001b[0;36msignalModule\u001b[1;34m(self, name, signal, origin)\u001b[0m\n\u001b[0;32m     68\u001b[0m         \u001b[0mmodule\u001b[0m \u001b[1;33m=\u001b[0m \u001b[0mself\u001b[0m\u001b[1;33m.\u001b[0m\u001b[0m_moduleIndex\u001b[0m\u001b[1;33m[\u001b[0m\u001b[0mname\u001b[0m\u001b[1;33m]\u001b[0m\u001b[1;33m\u001b[0m\u001b[1;33m\u001b[0m\u001b[0m\n\u001b[0;32m     69\u001b[0m         \u001b[0mmodule\u001b[0m\u001b[1;33m.\u001b[0m\u001b[0minputSignal\u001b[0m\u001b[1;33m(\u001b[0m\u001b[0msignal\u001b[0m\u001b[1;33m,\u001b[0m \u001b[0morigin\u001b[0m\u001b[1;33m)\u001b[0m\u001b[1;33m\u001b[0m\u001b[1;33m\u001b[0m\u001b[0m\n\u001b[1;32m---> 70\u001b[1;33m         \u001b[0mself\u001b[0m\u001b[1;33m.\u001b[0m\u001b[0mcountSignal\u001b[0m\u001b[1;33m(\u001b[0m\u001b[0msignal\u001b[0m\u001b[1;33m)\u001b[0m\u001b[1;33m\u001b[0m\u001b[1;33m\u001b[0m\u001b[0m\n\u001b[0m\u001b[0;32m     71\u001b[0m         \u001b[0mself\u001b[0m\u001b[1;33m.\u001b[0m\u001b[0mqueueConnectionSignals\u001b[0m\u001b[1;33m(\u001b[0m\u001b[0mmodule\u001b[0m\u001b[1;33m)\u001b[0m\u001b[1;33m\u001b[0m\u001b[1;33m\u001b[0m\u001b[0m\n\u001b[0;32m     72\u001b[0m \u001b[1;33m\u001b[0m\u001b[0m\n",
      "\u001b[1;31mKeyboardInterrupt\u001b[0m: "
     ]
    }
   ],
   "source": [
    "quickDesertMachine = QuickDesertMachine(text)\n",
    "quickDesertMachine.execute()"
   ]
  },
  {
   "cell_type": "code",
   "execution_count": 79,
   "metadata": {},
   "outputs": [
    {
     "name": "stdout",
     "output_type": "stream",
     "text": [
      "ls 1\n",
      "st 1\n",
      "hc 0\n",
      "xs 0\n",
      "pq 0\n",
      "rj 0\n",
      "lb 1\n",
      "zz 1\n",
      "kk 0\n",
      "hr 0\n",
      "pj 0\n",
      "pr 0\n",
      "tl 0\n",
      "tc 1\n",
      "cs 0\n",
      "lv 0\n",
      "vn 1\n",
      "mp 0\n",
      "broadcaster 0\n",
      "gg 1\n",
      "cr 0\n",
      "ch 1\n",
      "dx 0\n",
      "fl 1\n",
      "hn 1\n",
      "qp 1\n",
      "bp 1\n",
      "kl 1\n",
      "pl 1\n",
      "rm 0\n",
      "rz 0\n",
      "pm 1\n",
      "zl 0\n",
      "rk 0\n",
      "dr 0\n",
      "cg 0\n",
      "qt 0\n",
      "jg 1\n",
      "qb 0\n",
      "ck 0\n",
      "zr 0\n",
      "dd 0\n",
      "kd 0\n",
      "xq 1\n",
      "sg 0\n",
      "zj 1\n",
      "tn 0\n",
      "jd 0\n",
      "rr 1\n",
      "jh 0\n",
      "km 0\n",
      "ps 0\n",
      "zn 0\n",
      "bj 1\n",
      "nx 1\n",
      "xz 0\n",
      "ng 0\n",
      "ns 1\n",
      "rx 1\n"
     ]
    }
   ],
   "source": [
    "quickDesertMachine.printState()"
   ]
  },
  {
   "cell_type": "code",
   "execution_count": 37,
   "metadata": {},
   "outputs": [
    {
     "name": "stdout",
     "output_type": "stream",
     "text": [
      "broadcaster 1\n",
      "a 2\n",
      "inv 2\n",
      "b 4\n",
      "con 4\n",
      "output 4\n"
     ]
    }
   ],
   "source": [
    "sandMoverMachine.printState()"
   ]
  },
  {
   "cell_type": "code",
   "execution_count": 32,
   "metadata": {},
   "outputs": [
    {
     "data": {
      "text/plain": [
       "159182"
      ]
     },
     "execution_count": 32,
     "metadata": {},
     "output_type": "execute_result"
    }
   ],
   "source": [
    "sandMoverMachine._times"
   ]
  },
  {
   "cell_type": "code",
   "execution_count": 51,
   "metadata": {},
   "outputs": [
    {
     "data": {
      "image/png": "[encoded data removed]",
      "text/plain": [
       "<Figure size 432x288 with 1 Axes>"
      ]
     },
     "metadata": {},
     "output_type": "display_data"
    }
   ],
   "source": [
    "def getNodes(text):\n",
    "    dic = {'%':[], '&':[], 'b':[], 'o':[]}\n",
    "    for line in text.split('\\n'):\n",
    "        name = line.split(' -> ')[0]\n",
    "        if name[0] == '%':\n",
    "            dic['%'].append(name[1:])\n",
    "        elif name[0] == '&':\n",
    "            dic['&'].append(name[1:])\n",
    "        elif name[0] == 'b':\n",
    "            dic['b'].append(name)\n",
    "        else:\n",
    "            dic['o'].append(name)\n",
    "    for key in dic:\n",
    "        yield key, dic[key]\n",
    "\n",
    "def getEdges(text):\n",
    "    ls = []\n",
    "    for line in text.split('\\n'):\n",
    "        info = line.split(' -> ')\n",
    "        fromName = info[0].strip('%&')\n",
    "        for toName in info[1].split(', '):\n",
    "            ls.append((fromName, toName))\n",
    "    return ls\n",
    "\n",
    "def getLabels(nodeAttributes):\n",
    "    dic = {}\n",
    "    for key in nodeAttributes:\n",
    "        dic[key] = nodeAttributes[key] + ' ' + key\n",
    "    return dic\n",
    "\n",
    "def getColors(digraph):\n",
    "    dic = {}\n",
    "    nodes = list(digraph.nodes)\n",
    "    for node in nodes:\n",
    "        dic[node] = 'grey'\n",
    "    terminals = ['qt', 'qb', 'ng', 'mp']\n",
    "    colors = ['red', 'orange', 'yellow', 'green', 'blue']\n",
    "    for i in range(len(terminals)):\n",
    "        t = terminals[i]\n",
    "        color = colors[i]\n",
    "        nodes = digraph.predecessors(t)\n",
    "        for node in nodes:\n",
    "            dic[node] = color\n",
    "    return [dic[node] for node in graph.nodes()]\n",
    "\n",
    "import networkx as nx\n",
    "import matplotlib.pyplot as plt\n",
    "graph = nx.DiGraph()\n",
    "for key, ls in getNodes(text):\n",
    "    graph.add_nodes_from(ls, typex = key)\n",
    "graph.add_edges_from(getEdges(text))\n",
    "labels = getLabels(nx.get_node_attributes(graph, 'typex'))\n",
    "colors = getColors(graph)\n",
    "nx.draw(graph, with_labels = True, labels = labels, node_color = colors)\n",
    "plt.show()"
   ]
  },
  {
   "cell_type": "code",
   "execution_count": 52,
   "metadata": {},
   "outputs": [
    {
     "data": {
      "text/plain": [
       "58"
      ]
     },
     "execution_count": 52,
     "metadata": {},
     "output_type": "execute_result"
    }
   ],
   "source": [
    "len(text.split('\\n'))"
   ]
  },
  {
   "cell_type": "code",
   "execution_count": 50,
   "metadata": {},
   "outputs": [
    {
     "data": {
      "text/plain": [
       "NodeView(('ls', 'st', 'hc', 'xs', 'pq', 'rj', 'lb', 'zz', 'kk', 'hr', 'pj', 'pr', 'tl', 'tc', 'lv', 'vn', 'gg', 'cr', 'ch', 'fl', 'hn', 'qp', 'bp', 'kl', 'pl', 'rm', 'rz', 'pm', 'zl', 'rk', 'cg', 'jg', 'zr', 'dd', 'kd', 'xq', 'sg', 'zj', 'tn', 'jd', 'rr', 'km', 'ps', 'zn', 'bj', 'nx', 'xz', 'ns', 'cs', 'mp', 'dx', 'dr', 'qt', 'qb', 'ck', 'jh', 'ng', 'broadcaster', 'rx'))"
      ]
     },
     "execution_count": 50,
     "metadata": {},
     "output_type": "execute_result"
    }
   ],
   "source": [
    "graph.nodes()"
   ]
  },
  {
   "cell_type": "code",
   "execution_count": 46,
   "metadata": {},
   "outputs": [
    {
     "data": {
      "text/plain": [
       "{'ls': 'grey',\n",
       " 'st': 'grey',\n",
       " 'hc': 'grey',\n",
       " 'xs': 'grey',\n",
       " 'pq': 'grey',\n",
       " 'rj': 'grey',\n",
       " 'lb': 'grey',\n",
       " 'zz': 'grey',\n",
       " 'kk': 'grey',\n",
       " 'hr': 'grey',\n",
       " 'pj': 'grey',\n",
       " 'pr': 'grey',\n",
       " 'tl': 'grey',\n",
       " 'tc': 'grey',\n",
       " 'lv': 'grey',\n",
       " 'vn': 'grey',\n",
       " 'gg': 'grey',\n",
       " 'cr': 'grey',\n",
       " 'ch': 'grey',\n",
       " 'fl': 'grey',\n",
       " 'hn': 'grey',\n",
       " 'qp': 'grey',\n",
       " 'bp': 'grey',\n",
       " 'kl': 'grey',\n",
       " 'pl': 'grey',\n",
       " 'rm': 'grey',\n",
       " 'rz': 'grey',\n",
       " 'pm': 'grey',\n",
       " 'zl': 'grey',\n",
       " 'rk': 'grey',\n",
       " 'cg': 'grey',\n",
       " 'jg': 'grey',\n",
       " 'zr': 'grey',\n",
       " 'dd': 'grey',\n",
       " 'kd': 'grey',\n",
       " 'xq': 'grey',\n",
       " 'sg': 'grey',\n",
       " 'zj': 'grey',\n",
       " 'tn': 'grey',\n",
       " 'jd': 'grey',\n",
       " 'rr': 'grey',\n",
       " 'km': 'grey',\n",
       " 'ps': 'grey',\n",
       " 'zn': 'grey',\n",
       " 'bj': 'grey',\n",
       " 'nx': 'grey',\n",
       " 'xz': 'grey',\n",
       " 'ns': 'grey',\n",
       " 'cs': 'orange',\n",
       " 'mp': 'grey',\n",
       " 'dx': 'green',\n",
       " 'dr': 'grey',\n",
       " 'qt': 'grey',\n",
       " 'qb': 'grey',\n",
       " 'ck': 'red',\n",
       " 'jh': 'yellow',\n",
       " 'ng': 'grey',\n",
       " 'broadcaster': 'grey',\n",
       " 'rx': 'grey'}"
      ]
     },
     "execution_count": 46,
     "metadata": {},
     "output_type": "execute_result"
    }
   ],
   "source": [
    "colors"
   ]
  }
 ],
 "metadata": {
  "kernelspec": {
   "display_name": "Python 3",
   "language": "python",
   "name": "python3"
  },
  "language_info": {
   "codemirror_mode": {
    "name": "ipython",
    "version": 3
   },
   "file_extension": ".py",
   "mimetype": "text/x-python",
   "name": "python",
   "nbconvert_exporter": "python",
   "pygments_lexer": "ipython3",
   "version": "3.8.5"
  }
 },
 "nbformat": 4,
 "nbformat_minor": 4
}
