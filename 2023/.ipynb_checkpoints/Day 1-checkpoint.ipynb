{
 "cells": [
  {
   "cell_type": "code",
   "execution_count": 2,
   "metadata": {},
   "outputs": [],
   "source": [
    "def first_digit(line):\n",
    "    for i in range(len(line)):\n",
    "        char = line[i]\n",
    "        if ord(char) >= ord('0') and ord(char)<= ord('9'):\n",
    "            return ord(char) - ord('0')\n",
    "\n",
    "def last_digit(line):\n",
    "    return first_digit(line[::-1])"
   ]
  },
  {
   "cell_type": "code",
   "execution_count": 3,
   "metadata": {},
   "outputs": [
    {
     "name": "stdout",
     "output_type": "stream",
     "text": [
      "54081\n"
     ]
    }
   ],
   "source": [
    "arr = src.split('\\n')\n",
    "s = 0\n",
    "for line in arr:\n",
    "    term = 0\n",
    "    term += first_digit(line)\n",
    "    term *= 10\n",
    "    term += last_digit(line)\n",
    "    s += term\n",
    "print(s)"
   ]
  },
  {
   "cell_type": "code",
   "execution_count": 4,
   "metadata": {},
   "outputs": [
    {
     "name": "stdout",
     "output_type": "stream",
     "text": [
      "54649\n"
     ]
    }
   ],
   "source": [
    "digit_arr = [\"zero\",\"one\",\"two\",\"three\",\"four\",\"five\",\"six\",\"seven\",\"eight\",\"nine\"]\n",
    "digit_dict = {}\n",
    "reverse_digit_dict = {}\n",
    "for i in range(len(digit_arr)):\n",
    "    digit = digit_arr[i]\n",
    "    digit_dict[digit] = i\n",
    "    reverse_digit_dict[digit[::-1]] = i\n",
    "    \n",
    "def first_digit(line, digit_dict = digit_dict):\n",
    "    for i in range(len(line)):\n",
    "        char = line[i]\n",
    "        if ord(char) >= ord('0') and ord(char)<= ord('9'):\n",
    "            return ord(char) - ord('0')\n",
    "        else:\n",
    "            out = get_substring_digit_value(line, i, digit_dict)\n",
    "            if out >= 0:\n",
    "                return out\n",
    "\n",
    "def last_digit(line):\n",
    "    return first_digit(line[::-1], reverse_digit_dict)\n",
    "\n",
    "def get_substring_digit_value(line, idx, digit_dict):\n",
    "    for i in range(3,6):\n",
    "        if idx + i < len(line) and line[idx:idx+i] in digit_dict:\n",
    "            return digit_dict[line[idx:idx+i]]\n",
    "    return -1\n",
    "\n",
    "arr = src.split('\\n')\n",
    "s = 0\n",
    "for line in arr:\n",
    "    term = 0\n",
    "    term += first_digit(line)\n",
    "    term *= 10\n",
    "    term += last_digit(line)\n",
    "    s += term\n",
    "print(s)"
   ]
  }
 ],
 "metadata": {
  "kernelspec": {
   "display_name": "Python 3",
   "language": "python",
   "name": "python3"
  },
  "language_info": {
   "codemirror_mode": {
    "name": "ipython",
    "version": 3
   },
   "file_extension": ".py",
   "mimetype": "text/x-python",
   "name": "python",
   "nbconvert_exporter": "python",
   "pygments_lexer": "ipython3",
   "version": "3.8.5"
  }
 },
 "nbformat": 4,
 "nbformat_minor": 4
}
