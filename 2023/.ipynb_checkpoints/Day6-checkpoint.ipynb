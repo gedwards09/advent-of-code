{
 "cells": [
  {
   "cell_type": "code",
   "execution_count": 2,
   "metadata": {},
   "outputs": [
    {
     "name": "stdout",
     "output_type": "stream",
     "text": [
      "588588\n"
     ]
    }
   ],
   "source": [
    "def getIntegers(line):\n",
    "    out = []\n",
    "    for word in line.split(' '):\n",
    "        try:\n",
    "            number = int(word)\n",
    "        except:\n",
    "            continue\n",
    "        out.append(number)\n",
    "    return out\n",
    "\n",
    "lines = text.split('\\n')\n",
    "times = getIntegers(lines[0])\n",
    "distances = getIntegers(lines[1])\n",
    "if len(times) != len(distances):\n",
    "    raise Exception(\"Times and distances arrays must have the same length\")\n",
    "n = len(distances)\n",
    "product = 1\n",
    "for i in range(n):\n",
    "    time = times[i]\n",
    "    targetDistance = distances[i]\n",
    "    multiplicand = 0\n",
    "    for i in range(time+1):\n",
    "        distance = i * (time - i)\n",
    "        if distance > targetDistance:\n",
    "            multiplicand += 1\n",
    "    if multiplicand > 0:\n",
    "        product *= multiplicand\n",
    "print(product)\n"
   ]
  },
  {
   "cell_type": "code",
   "execution_count": 3,
   "metadata": {},
   "outputs": [],
   "source": [
    "import math"
   ]
  },
  {
   "cell_type": "code",
   "execution_count": 4,
   "metadata": {},
   "outputs": [
    {
     "name": "stdout",
     "output_type": "stream",
     "text": [
      "34655848\n"
     ]
    }
   ],
   "source": [
    "def getIntFromLine(line):\n",
    "    out = \"\"\n",
    "    for word in line.split(' '):\n",
    "        try:\n",
    "            number = int(word)\n",
    "        except:\n",
    "            continue\n",
    "        out += word\n",
    "    return int(out)\n",
    "\n",
    "lines = text.split('\\n')\n",
    "time = getIntFromLine(lines[0])\n",
    "targetDistance = getIntFromLine(lines[1])\n",
    "count = 0\n",
    "start = math.floor(0.5 * (time - math.sqrt(time ** 2 - 4 * targetDistance))) - 1\n",
    "distance = start * (time - start)\n",
    "for i in range(start, time+1):\n",
    "    distance += time - 2 * i - 1\n",
    "    if distance > targetDistance:\n",
    "        count += 1\n",
    "    elif count > 0:\n",
    "        break\n",
    "print(count)"
   ]
  },
  {
   "cell_type": "code",
   "execution_count": 5,
   "metadata": {},
   "outputs": [
    {
     "data": {
      "text/plain": [
       "34655848"
      ]
     },
     "execution_count": 5,
     "metadata": {},
     "output_type": "execute_result"
    }
   ],
   "source": [
    "## pencil and paper calculation\n",
    "math.floor(0.5 * (time + math.sqrt(time ** 2 - 4 * targetDistance))) \\\n",
    "- math.ceil(0.5 * (time - math.sqrt(time ** 2 - 4 * targetDistance))) + 1"
   ]
  }
 ],
 "metadata": {
  "kernelspec": {
   "display_name": "Python 3",
   "language": "python",
   "name": "python3"
  },
  "language_info": {
   "codemirror_mode": {
    "name": "ipython",
    "version": 3
   },
   "file_extension": ".py",
   "mimetype": "text/x-python",
   "name": "python",
   "nbconvert_exporter": "python",
   "pygments_lexer": "ipython3",
   "version": "3.8.5"
  }
 },
 "nbformat": 4,
 "nbformat_minor": 4
}
