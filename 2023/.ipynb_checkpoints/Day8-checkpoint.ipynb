{
 "cells": [
  {
   "cell_type": "code",
   "execution_count": 22,
   "metadata": {},
   "outputs": [],
   "source": [
    "class Node:\n",
    "    index = {}\n",
    "    \n",
    "    def __init__(self, line):\n",
    "        self._name = line[0:3]\n",
    "        self._leftName = line[7:10]\n",
    "        self._rightName = line[12:15]\n",
    "        self._left = None\n",
    "        self._right = None\n",
    "        \n",
    "    def getName(self):\n",
    "        return self._name\n",
    "    \n",
    "    def getLeftName(self):\n",
    "        return self._leftName\n",
    "    \n",
    "    def getRightName(self):\n",
    "        return self._rightName\n",
    "    \n",
    "    def getLeft(self):\n",
    "        if self._left == None:\n",
    "            raise Expection(\"Child node not initialized\")\n",
    "        return self._left\n",
    "    \n",
    "    def getRight(self):\n",
    "        if self._right == None:\n",
    "            raise Exception(\"Child node not initialized\")\n",
    "        return self._right\n",
    "    \n",
    "    def setLeft(self, node):\n",
    "        self._left = node\n",
    "    \n",
    "    def setRight(self, node):\n",
    "        self._right = node\n",
    "        \n",
    "    def getChild(self, char):\n",
    "        if char == 'L':\n",
    "            return self.getLeft()\n",
    "        elif char == 'R':\n",
    "            return self.getRight()"
   ]
  },
  {
   "cell_type": "code",
   "execution_count": 23,
   "metadata": {},
   "outputs": [],
   "source": [
    "class Network:\n",
    "    \n",
    "    def __init__(self, text):\n",
    "        lines = text.split('\\n')\n",
    "        self._steps = lines[0]\n",
    "        self._length = len(lines[0])\n",
    "        self._nodeIndex = {}\n",
    "        self.initializeNodes(lines[2:])\n",
    "        self.updateNodeChildren()\n",
    "        self._head = self.initializeHead()\n",
    "        self._tail = self.initializeTail()\n",
    "        \n",
    "    def initializeNodes(self, lines):\n",
    "        for line in lines:\n",
    "            node = Node(line)\n",
    "            self._nodeIndex[node.getName()] = node\n",
    "            \n",
    "    def updateNodeChildren(self):\n",
    "        for name in self._nodeIndex:\n",
    "            node = self._nodeIndex[name]\n",
    "            node.setLeft(self._nodeIndex[node.getLeftName()])\n",
    "            node.setRight(self._nodeIndex[node.getRightName()])\n",
    "            \n",
    "    def initializeHead(self):\n",
    "        return self._nodeIndex['AAA']\n",
    "    \n",
    "    def initializeTail(self):\n",
    "        return self._nodeIndex['ZZZ']\n",
    "    \n",
    "    def findPathLength(self):\n",
    "        current = self._head\n",
    "        steps = 0\n",
    "        while (current != self._tail):\n",
    "            direction = self._steps[steps % self._length]\n",
    "            current = current.getChild(direction)\n",
    "            steps += 1\n",
    "        return steps\n",
    "        "
   ]
  },
  {
   "cell_type": "code",
   "execution_count": 24,
   "metadata": {},
   "outputs": [
    {
     "data": {
      "text/plain": [
       "19241"
      ]
     },
     "execution_count": 24,
     "metadata": {},
     "output_type": "execute_result"
    }
   ],
   "source": [
    "network = Network(text)\n",
    "network.findPathLength()"
   ]
  },
  {
   "cell_type": "code",
   "execution_count": 30,
   "metadata": {},
   "outputs": [],
   "source": [
    "class GhostNetwork(Network):\n",
    "    \n",
    "    def findGhostPathLength(self):\n",
    "        curLcm = 1\n",
    "        for name in self._nodeIndex:\n",
    "            if name[-1] != 'A':\n",
    "                continue\n",
    "            factor = self.findGhostPathLengthFromStartingNode(self._nodeIndex[name])\n",
    "            curLcm = GhostNetwork.getLcm(curLcm, factor)\n",
    "        return curLcm\n",
    "    \n",
    "    def findGhostPathLengthFromStartingNode(self, node):\n",
    "        current = node\n",
    "        cursteps = 0\n",
    "        while current.getName()[-1] != 'Z':\n",
    "            direction = self._steps[cursteps % self._length]\n",
    "            current = current.getChild(direction)\n",
    "            cursteps += 1\n",
    "        return cursteps\n",
    "            \n",
    "    def getLcm(a, b):\n",
    "        return a * b // GhostNetwork.getGcd(a, b)\n",
    "    \n",
    "    def getGcd(a, b):\n",
    "        return GhostNetwork.euclideanAlgorithm(a, b)\n",
    "    \n",
    "    def euclideanAlgorithm(a, b):\n",
    "        if a < b:\n",
    "            return GhostNetwork.euclideanAlgorithm(b, a)\n",
    "        if a % b == 0:\n",
    "            return b\n",
    "        else:\n",
    "            return GhostNetwork.euclideanAlgorithm(b, a % b)"
   ]
  },
  {
   "cell_type": "code",
   "execution_count": 31,
   "metadata": {},
   "outputs": [
    {
     "data": {
      "text/plain": [
       "9606140307013"
      ]
     },
     "execution_count": 31,
     "metadata": {},
     "output_type": "execute_result"
    }
   ],
   "source": [
    "ghostNetwork = GhostNetwork(text)\n",
    "ghostNetwork.findGhostPathLength()"
   ]
  }
 ],
 "metadata": {
  "kernelspec": {
   "display_name": "Python 3",
   "language": "python",
   "name": "python3"
  },
  "language_info": {
   "codemirror_mode": {
    "name": "ipython",
    "version": 3
   },
   "file_extension": ".py",
   "mimetype": "text/x-python",
   "name": "python",
   "nbconvert_exporter": "python",
   "pygments_lexer": "ipython3",
   "version": "3.8.5"
  }
 },
 "nbformat": 4,
 "nbformat_minor": 4
}
