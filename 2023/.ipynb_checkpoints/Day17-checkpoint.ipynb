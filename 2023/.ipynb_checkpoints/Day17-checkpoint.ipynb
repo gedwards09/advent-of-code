{
 "cells": [
  {
   "cell_type": "code",
   "execution_count": 2,
   "metadata": {},
   "outputs": [],
   "source": [
    "class Map:\n",
    "    \n",
    "    s_minStepsInDirection = 1\n",
    "    s_maxStepsInDirection = 3\n",
    "    s_directionToNextDirectionsMap = None\n",
    "    s_directionToCoordChangeMap = None\n",
    "    \n",
    "    def __init__(self, text):\n",
    "        self._map = text.split('\\n')\n",
    "        self._yBound = len(self._map)\n",
    "        self._xBound = len(self._map[0])\n",
    "        self._maxHeatLoss = 9 * self._yBound * self._xBound\n",
    "        self._queue = self.initQueue()\n",
    "        self._heatLossMap = self.initHeatLossMap()\n",
    "        self.initDirectionToNextDirectionsMap()\n",
    "        self.initDirectionToCoordChangeMap()\n",
    "    \n",
    "    def initQueue(self):\n",
    "        return [(0, 0, 'v'), (0, 0, '>')]\n",
    "        \n",
    "    def initHeatLossMap(self):\n",
    "        memo = {}\n",
    "        for i in range(self._yBound):\n",
    "            for j in range(self._xBound):\n",
    "                for direction in ['<', '>', '^', 'v']:\n",
    "                    memo[(i, j, direction)] = self._maxHeatLoss\n",
    "        initQueue = self.initQueue()\n",
    "        for key in initQueue:\n",
    "            memo[key] = 0\n",
    "        return memo\n",
    "    \n",
    "    def initDirectionToNextDirectionsMap(self):\n",
    "        if Map.s_directionToNextDirectionsMap == None:\n",
    "            Map.s_directionToNextDirectionsMap = Map.getDirectionToNextDirectionsMap()\n",
    "    \n",
    "    def initDirectionToCoordChangeMap(self):\n",
    "        if Map.s_directionToCoordChangeMap == None:\n",
    "            Map.s_directionToCoordChangeMap = Map.getDirectionToCoordinateChangeMap()\n",
    "        \n",
    "    def getMinHeatLoss(self):\n",
    "        while len(self._queue) > 0:\n",
    "            y, x, direction = self._queue.pop(0)\n",
    "            heat = self._heatLossMap[(y, x, direction)]\n",
    "            dy, dx = Map.s_directionToCoordChangeMap[direction]\n",
    "            nextDirections = Map.s_directionToNextDirectionsMap[direction]\n",
    "            heatAdded = 0\n",
    "            for i in range(Map.s_maxStepsInDirection):\n",
    "                y += dy\n",
    "                x += dx\n",
    "                if 0 > y or y >= self._yBound or 0 > x or x >= self._xBound:\n",
    "                    break\n",
    "                heatAdded += int(self._map[y][x])\n",
    "                if i + 1 < Map.s_minStepsInDirection:\n",
    "                    continue\n",
    "                for nextDirection in nextDirections:\n",
    "                    if self._heatLossMap[(y, x, nextDirection)] > heat + heatAdded:\n",
    "                        self._heatLossMap[(y, x, nextDirection)] = heat + heatAdded\n",
    "                        self._queue.append((y, x, nextDirection))\n",
    "        min_ = self._maxHeatLoss\n",
    "        for direction in ['<', '>', '^', 'v']:\n",
    "            current = self._heatLossMap[(self._yBound - 1, self._xBound - 1, direction)]\n",
    "            if min_ > current:\n",
    "                min_ = current\n",
    "        return min_\n",
    "        \n",
    "    def getDirectionToNextDirectionsMap():\n",
    "        map_ = {}\n",
    "        map_['v'] = ['>', '<']\n",
    "        map_['^'] = ['>', '<']\n",
    "        map_['>'] = ['^', 'v']\n",
    "        map_['<'] = ['^', 'v']\n",
    "        return map_\n",
    "        \n",
    "    def getDirectionToCoordinateChangeMap():\n",
    "        map_ = {}\n",
    "        map_['^'] = (-1, 0)\n",
    "        map_['v'] = (1, 0)\n",
    "        map_['>'] = (0, 1)\n",
    "        map_['<'] = (0, -1)\n",
    "        return map_"
   ]
  },
  {
   "cell_type": "code",
   "execution_count": 3,
   "metadata": {},
   "outputs": [
    {
     "name": "stdout",
     "output_type": "stream",
     "text": [
      "1246\n"
     ]
    }
   ],
   "source": [
    "map_ = Map(text)\n",
    "print(map_.getMinHeatLoss())"
   ]
  },
  {
   "cell_type": "code",
   "execution_count": 4,
   "metadata": {},
   "outputs": [
    {
     "name": "stdout",
     "output_type": "stream",
     "text": [
      "1389\n"
     ]
    }
   ],
   "source": [
    "Map.s_minStepsInDirection = 4\n",
    "Map.s_maxStepsInDirection = 10\n",
    "ultraMap = Map(text)\n",
    "print(ultraMap.getMinHeatLoss())"
   ]
  }
 ],
 "metadata": {
  "kernelspec": {
   "display_name": "Python 3",
   "language": "python",
   "name": "python3"
  },
  "language_info": {
   "codemirror_mode": {
    "name": "ipython",
    "version": 3
   },
   "file_extension": ".py",
   "mimetype": "text/x-python",
   "name": "python",
   "nbconvert_exporter": "python",
   "pygments_lexer": "ipython3",
   "version": "3.8.5"
  }
 },
 "nbformat": 4,
 "nbformat_minor": 4
}
