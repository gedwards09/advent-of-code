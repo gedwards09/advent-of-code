{
 "cells": [
  {
   "cell_type": "code",
   "execution_count": 2,
   "metadata": {},
   "outputs": [],
   "source": [
    "class Decoder:\n",
    "    \n",
    "    s_hash = {}\n",
    "    \n",
    "    def __init__(self, line):\n",
    "        word = line.split(' ')\n",
    "        self._pattern = word[0]\n",
    "        self._nums = [int(char) for char in word[1].split(',')]\n",
    "        \n",
    "    def countCompatibleStrings(self):\n",
    "        return Decoder.rCountCompatibleStrings(self._pattern, self._nums)\n",
    "        \n",
    "    def rCountCompatibleStrings(pattern, nums):\n",
    "        hashkey = (pattern, ','.join([str(n) for n in nums]))\n",
    "        if hashkey in Decoder.s_hash:\n",
    "            return Decoder.s_hash[hashkey]\n",
    "        count = 0\n",
    "        if len(nums) == 0:\n",
    "            sGen = ''.join(['.' for _ in range(len(pattern))])\n",
    "            if Decoder.compatible(pattern, sGen):\n",
    "                return 1\n",
    "            else:\n",
    "                return 0\n",
    "        gen = ''.join(['#' for _ in range(nums[0])])\n",
    "        if len(nums) > 1:\n",
    "            gen += '.'\n",
    "        for i in range(len(pattern) - len(nums) + 2):\n",
    "            if Decoder.compatible(pattern[:len(gen)], gen):\n",
    "                count += Decoder.rCountCompatibleStrings(pattern[len(gen):], nums[1:])\n",
    "            gen = '.' + gen\n",
    "        Decoder.s_hash[hashkey] = count\n",
    "        return count\n",
    "                \n",
    "    def compatible(pattern, candidate):\n",
    "        if len(pattern) != len(candidate):\n",
    "            return False\n",
    "        for i in range(len(pattern)):\n",
    "            if pattern[i] == '?':\n",
    "                continue\n",
    "            if pattern[i] != candidate[i]:\n",
    "                return False\n",
    "        return True\n",
    "            "
   ]
  },
  {
   "cell_type": "code",
   "execution_count": 3,
   "metadata": {},
   "outputs": [
    {
     "name": "stdout",
     "output_type": "stream",
     "text": [
      "7460\n"
     ]
    }
   ],
   "source": [
    "psum = 0\n",
    "for line in text.split('\\n'):\n",
    "    decoder = Decoder(line)\n",
    "    psum += decoder.countCompatibleStrings()\n",
    "print(psum)"
   ]
  },
  {
   "cell_type": "code",
   "execution_count": 4,
   "metadata": {},
   "outputs": [],
   "source": [
    "class SuperDecoder(Decoder):\n",
    "    s_times = 5\n",
    "    \n",
    "    def __init__(self, line):\n",
    "        word = line.split(' ')\n",
    "        self._pattern = \"\"\n",
    "        self._nums = []\n",
    "        for i in range(SuperDecoder.s_times):\n",
    "            self._pattern += word[0]\n",
    "            if i + 1 < SuperDecoder.s_times:\n",
    "                self._pattern += \"?\"\n",
    "            self._nums += [int(char) for char in word[1].split(',')]"
   ]
  },
  {
   "cell_type": "code",
   "execution_count": 5,
   "metadata": {},
   "outputs": [
    {
     "name": "stdout",
     "output_type": "stream",
     "text": [
      "6720660274964\n"
     ]
    }
   ],
   "source": [
    "psum = 0\n",
    "for line in text.split('\\n'):\n",
    "    superDecoder = SuperDecoder(line)\n",
    "    psum += superDecoder.countCompatibleStrings()\n",
    "print(psum)"
   ]
  }
 ],
 "metadata": {
  "kernelspec": {
   "display_name": "Python 3",
   "language": "python",
   "name": "python3"
  },
  "language_info": {
   "codemirror_mode": {
    "name": "ipython",
    "version": 3
   },
   "file_extension": ".py",
   "mimetype": "text/x-python",
   "name": "python",
   "nbconvert_exporter": "python",
   "pygments_lexer": "ipython3",
   "version": "3.8.5"
  }
 },
 "nbformat": 4,
 "nbformat_minor": 4
}
