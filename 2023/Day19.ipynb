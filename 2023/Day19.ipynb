{
 "cells": [
  {
   "cell_type": "code",
   "execution_count": 2,
   "metadata": {},
   "outputs": [],
   "source": [
    "class Part:\n",
    "    \n",
    "    def __init__(self, line):\n",
    "        self._index = self.initIndex(line)\n",
    "    \n",
    "    def initIndex(self, line):\n",
    "        index = {}\n",
    "        for el in line.strip('{}').split(','):\n",
    "            name, rawValue = el.split('=')\n",
    "            index[name] = int(rawValue)\n",
    "        return index\n",
    "    \n",
    "    def getValue(self, name):\n",
    "        if not name in self._index:\n",
    "            raise Exception(\"Property {1} not found in Part\".format(name))\n",
    "        return self._index[name]"
   ]
  },
  {
   "cell_type": "code",
   "execution_count": 3,
   "metadata": {},
   "outputs": [],
   "source": [
    "class PartRule:\n",
    "    DefaultName = 'default'\n",
    "    \n",
    "    def __init__(self, line):\n",
    "        self.initRules(line)\n",
    "        \n",
    "    def initRules(self, line):\n",
    "        name, rules = line.split('{')\n",
    "        self._name = name\n",
    "        rules = rules.strip('}')\n",
    "        self._rules = [self.parseRule(rule) for rule in rules.split(',')]\n",
    "        \n",
    "    def parseRule(self, rule):\n",
    "        if len(rule.split(':')) == 1:\n",
    "            # default case\n",
    "            return [PartRule.DefaultName, '', 0, rule]\n",
    "        for i in range(len(rule)):\n",
    "            if rule[i] == '<' or rule[i] == '>':\n",
    "                name = rule[:i]\n",
    "                operator = rule[i]\n",
    "                rawValue, nextName = rule[i+1:].split(':')\n",
    "                return [name, operator, int(rawValue), nextName]\n",
    "            \n",
    "    def getName(self):\n",
    "        return self._name\n",
    "    \n",
    "    def getRules(self):\n",
    "        return self._rules\n",
    "    \n",
    "    def evaluatePart(self, part):\n",
    "        for name, operator, value, nextName in self._rules:\n",
    "            if name == PartRule.DefaultName:\n",
    "                return nextName\n",
    "            if operator == '<':\n",
    "                if part.getValue(name) < value:\n",
    "                    return nextName\n",
    "            elif operator == '>':\n",
    "                if part.getValue(name) > value:\n",
    "                    return nextName\n",
    "        raise Exception(\"No matching rule or default found\")"
   ]
  },
  {
   "cell_type": "code",
   "execution_count": 4,
   "metadata": {},
   "outputs": [],
   "source": [
    "class PartAnalyzer:\n",
    "    InitialRuleName = 'in'\n",
    "    AcceptedRuleName = 'A'\n",
    "    RejectedRuleName = 'R'\n",
    "    \n",
    "    def __init__(self, text):\n",
    "        rulesText, partsText = text.split('\\n\\n')\n",
    "        self.PartRulesIndex = self.initPartRulesIndex(rulesText)\n",
    "        self._partsText = partsText\n",
    "        \n",
    "    def initPartRulesIndex(self, text):\n",
    "        index = {}\n",
    "        for line in text.split('\\n'):\n",
    "            partRule = PartRule(line)\n",
    "            index[partRule.getName()] = partRule\n",
    "        return index\n",
    "        \n",
    "    def keepPart(self, part):\n",
    "        partRuleName = PartAnalyzer.InitialRuleName\n",
    "        while partRuleName != PartAnalyzer.AcceptedRuleName \\\n",
    "        and partRuleName != PartAnalyzer.RejectedRuleName:\n",
    "            partRule = self.PartRulesIndex[partRuleName]\n",
    "            partRuleName = partRule.evaluatePart(part)\n",
    "        if partRuleName == PartAnalyzer.AcceptedRuleName:\n",
    "            return True\n",
    "        elif partRuleName == PartAnalyzer.RejectedRuleName:\n",
    "            return False\n",
    "        else:\n",
    "            raise Exception(\"Analysis of part by rule indeterminate\")\n",
    "            \n",
    "    def totalPartRatings(self):\n",
    "        psum = 0\n",
    "        for line in self._partsText.split('\\n'):\n",
    "            part = Part(line)\n",
    "            if self.keepPart(part):\n",
    "                for char in 'xmas':\n",
    "                    psum += part.getValue(char)\n",
    "        return psum\n",
    "        "
   ]
  },
  {
   "cell_type": "code",
   "execution_count": 5,
   "metadata": {},
   "outputs": [
    {
     "name": "stdout",
     "output_type": "stream",
     "text": [
      "287054\n"
     ]
    }
   ],
   "source": [
    "partAnalyzer = PartAnalyzer(text)\n",
    "print(partAnalyzer.totalPartRatings())"
   ]
  },
  {
   "cell_type": "code",
   "execution_count": 6,
   "metadata": {},
   "outputs": [],
   "source": [
    "class PartScheme(PartAnalyzer):\n",
    "    \n",
    "    s_valueMin = 1\n",
    "    s_valueMax = 4000\n",
    "    \n",
    "    def totalParts(self):\n",
    "        # ranges always inclusive\n",
    "        range_ = (PartScheme.s_valueMin, PartScheme.s_valueMax)\n",
    "        rangeIndex = {}\n",
    "        for char in 'xmas':\n",
    "            rangeIndex[char] = range_\n",
    "        return self.evaluateRange(PartAnalyzer.InitialRuleName, rangeIndex)\n",
    "    \n",
    "    def evaluateRange(self, partRuleName, rangeIndex):\n",
    "        if partRuleName == PartAnalyzer.RejectedRuleName:\n",
    "            return 0\n",
    "        elif partRuleName == PartAnalyzer.AcceptedRuleName:\n",
    "            return PartScheme.rangeVolume(rangeIndex)\n",
    "        partRule = self.PartRulesIndex[partRuleName]\n",
    "        psum = 0\n",
    "        for name, operator, value, nextName in partRule.getRules():\n",
    "            if name == PartRule.DefaultName:\n",
    "                psum += self.evaluateRange(nextName, rangeIndex)\n",
    "                break\n",
    "            range_ = rangeIndex[name]\n",
    "            if operator == '>':\n",
    "                rangeLower, rangeHigher = PartScheme.splitRange(range_, value + 1)\n",
    "                if rangeHigher != None and rangeLower != None:\n",
    "                    rangeIndexCopy = rangeIndex.copy()\n",
    "                    rangeIndexCopy[name] = rangeHigher\n",
    "                    rangeIndex[name] = rangeLower\n",
    "                    psum += self.evaluateRange(nextName, rangeIndexCopy)\n",
    "                elif rangeHigher != None:\n",
    "                    psum += self.evaluateRange(nextName, rangeIndex)\n",
    "                    break\n",
    "                # else continue evaluating entire range\n",
    "            if operator == '<':\n",
    "                rangeLower, rangeHigher = PartScheme.splitRange(range_, value)\n",
    "                if rangeHigher != None and rangeLower != None:\n",
    "                    rangeIndexCopy = rangeIndex.copy()\n",
    "                    rangeIndexCopy[name] = rangeLower\n",
    "                    rangeIndex[name] = rangeHigher\n",
    "                    psum += self.evaluateRange(nextName, rangeIndexCopy)\n",
    "                elif rangeLower != None:\n",
    "                    psum += self.evaluateRange(nextName, rangeIndex)\n",
    "                    break\n",
    "                # else continue evaluating entire range\n",
    "        return psum\n",
    "            \n",
    "                \n",
    "    def rangeVolume(rangeIndex):\n",
    "        m = 1\n",
    "        for key in rangeIndex:\n",
    "            rng = rangeIndex[key]\n",
    "            m *= rng[1] - rng[0] + 1\n",
    "        return m\n",
    "    \n",
    "    def splitRange(range_, upperRangeMinimum):\n",
    "        a, b = range_\n",
    "        if a < upperRangeMinimum and upperRangeMinimum <= b:\n",
    "            return (a, upperRangeMinimum - 1), (upperRangeMinimum, b)\n",
    "        elif upperRangeMinimum <= a:\n",
    "            return None, (a, b)\n",
    "        elif b < upperRangeMinimum:\n",
    "            return (a, b), None\n",
    "        else:\n",
    "            return None, None"
   ]
  },
  {
   "cell_type": "code",
   "execution_count": 7,
   "metadata": {},
   "outputs": [
    {
     "data": {
      "text/plain": [
       "131619440296497"
      ]
     },
     "execution_count": 7,
     "metadata": {},
     "output_type": "execute_result"
    }
   ],
   "source": [
    "partScheme = PartScheme(text)\n",
    "partScheme.totalParts()"
   ]
  }
 ],
 "metadata": {
  "kernelspec": {
   "display_name": "Python 3",
   "language": "python",
   "name": "python3"
  },
  "language_info": {
   "codemirror_mode": {
    "name": "ipython",
    "version": 3
   },
   "file_extension": ".py",
   "mimetype": "text/x-python",
   "name": "python",
   "nbconvert_exporter": "python",
   "pygments_lexer": "ipython3",
   "version": "3.8.5"
  }
 },
 "nbformat": 4,
 "nbformat_minor": 4
}
