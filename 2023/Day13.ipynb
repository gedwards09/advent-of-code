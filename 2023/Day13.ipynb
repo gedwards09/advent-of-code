{
 "cells": [
  {
   "cell_type": "code",
   "execution_count": 2,
   "metadata": {},
   "outputs": [],
   "source": [
    "def findReflectionCoefficient(grid):\n",
    "    mat = grid.split('\\n')\n",
    "    out = 0\n",
    "    out += findReflectionColumn(mat)\n",
    "    out += 100 * findReflectionRow(mat)\n",
    "    return out\n",
    "\n",
    "def findReflectionColumn(mat):\n",
    "    ncol = len(mat[0])\n",
    "    nrow = len(mat)\n",
    "    for j in range(1, ncol):\n",
    "        symmetric = True\n",
    "        for i in range(nrow):\n",
    "            if not isSymmetric(mat[i], j):\n",
    "                symmetric = False\n",
    "                break\n",
    "        if symmetric:\n",
    "            return j\n",
    "    return 0\n",
    "            \n",
    "def isSymmetric(arr, reflectionIndex):\n",
    "    for i in range(reflectionIndex):\n",
    "        iReflected = reflectIndex(i, reflectionIndex)\n",
    "        if iReflected >= len(arr):\n",
    "            continue\n",
    "        if arr[i] != arr[iReflected]:\n",
    "            return False\n",
    "    return True\n",
    "\n",
    "def reflectIndex(i, reflectionIndex):\n",
    "    return reflectionIndex - (i - reflectionIndex) - 1\n",
    "\n",
    "def findReflectionRow(mat):\n",
    "    nrow = len(mat)\n",
    "    for i in range(1, nrow):\n",
    "        if isSymmetric(mat, i):\n",
    "            return i\n",
    "    return 0"
   ]
  },
  {
   "cell_type": "code",
   "execution_count": 3,
   "metadata": {},
   "outputs": [
    {
     "name": "stdout",
     "output_type": "stream",
     "text": [
      "35360\n"
     ]
    }
   ],
   "source": [
    "grids = text.split('\\n\\n')\n",
    "psum = 0\n",
    "for grid in grids:\n",
    "    psum += findReflectionCoefficient(grid)\n",
    "print(psum)"
   ]
  },
  {
   "cell_type": "code",
   "execution_count": 4,
   "metadata": {},
   "outputs": [],
   "source": [
    "#override original defintion\n",
    "def findReflectionColumn(mat):\n",
    "    ncol = len(mat[0])\n",
    "    nrow = len(mat)\n",
    "    for j in range(1, ncol):\n",
    "        diffCount = 0\n",
    "        for i in range(nrow):\n",
    "            diffCount += getSymmetryDifferenceCount(mat[i], j)\n",
    "            if diffCount > 1:\n",
    "                break\n",
    "        if diffCount == 1:\n",
    "            return j\n",
    "    return 0\n",
    "\n",
    "def getSymmetryDifferenceCount(arr, reflectionIndex):\n",
    "    diffCount = 0\n",
    "    for i in range(reflectionIndex):\n",
    "        iReflected = reflectIndex(i, reflectionIndex)\n",
    "        if iReflected >= len(arr):\n",
    "            continue\n",
    "        if arr[i] != arr[iReflected]:\n",
    "            diffCount += getDiffCount(arr[i], arr[iReflected])\n",
    "    return diffCount\n",
    "\n",
    "def getDiffCount(arr: str, refl: str):\n",
    "    diffCount = 0\n",
    "    for i in range(len(arr)):\n",
    "        if arr[i] != refl[i]:\n",
    "            diffCount += 1\n",
    "    return diffCount\n",
    "\n",
    "# override originial defintion\n",
    "def findReflectionRow(mat):\n",
    "    nrow = len(mat)\n",
    "    for i in range(1, nrow):\n",
    "        diffCount = getSymmetryDifferenceCount(mat, i)\n",
    "        if diffCount == 1:\n",
    "            return i\n",
    "    return 0"
   ]
  },
  {
   "cell_type": "code",
   "execution_count": 5,
   "metadata": {},
   "outputs": [
    {
     "name": "stdout",
     "output_type": "stream",
     "text": [
      "36755\n"
     ]
    }
   ],
   "source": [
    "grids = text.split('\\n\\n')\n",
    "psum = 0\n",
    "for grid in grids:\n",
    "    psum += findReflectionCoefficient(grid)\n",
    "print(psum)"
   ]
  }
 ],
 "metadata": {
  "kernelspec": {
   "display_name": "Python 3",
   "language": "python",
   "name": "python3"
  },
  "language_info": {
   "codemirror_mode": {
    "name": "ipython",
    "version": 3
   },
   "file_extension": ".py",
   "mimetype": "text/x-python",
   "name": "python",
   "nbconvert_exporter": "python",
   "pygments_lexer": "ipython3",
   "version": "3.8.5"
  }
 },
 "nbformat": 4,
 "nbformat_minor": 4
}
