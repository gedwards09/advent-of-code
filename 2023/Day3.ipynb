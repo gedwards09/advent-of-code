{
 "cells": [
  {
   "cell_type": "code",
   "execution_count": 3,
   "metadata": {},
   "outputs": [],
   "source": [
    "def isDigit(string, idx):\n",
    "    return ord(string[idx]) >= ord('0') and ord(string[idx]) <= ord('9')\n",
    "\n",
    "def isPeriod(string, idx):\n",
    "    return string[idx] == '.'\n",
    "\n",
    "def getDigit(string, idx):\n",
    "    return ord(string[idx]) - ord('0')\n",
    "\n",
    "def getNumLength(string, idx):\n",
    "    length = 1\n",
    "    while idx + length < len(string) and isDigit(string, idx + length):\n",
    "        length += 1\n",
    "    return length\n",
    "\n",
    "def isPartNumber(mat, rownum, colnum, length):\n",
    "    for i in range(-1, length+1):\n",
    "        if colnum + i < 0 or colnum + i >= len(mat[rownum]):\n",
    "            continue\n",
    "        for j in range(-1, 2):\n",
    "            if j == 0 and ( i >= 0 and i < length):\n",
    "                continue\n",
    "            if rownum + j >= 0 and rownum + j < len(mat):\n",
    "                if not isDigit(mat[rownum + j], colnum + i) and not isPeriod(mat[rownum + j], colnum + i):\n",
    "                    return True\n",
    "    return False\n",
    "\n",
    "def readNumber(string, idx, length):\n",
    "    n = 0\n",
    "    for i in range(idx, idx + length):\n",
    "        n *= 10\n",
    "        n += getDigit(string, i)\n",
    "    return n"
   ]
  },
  {
   "cell_type": "code",
   "execution_count": 4,
   "metadata": {},
   "outputs": [
    {
     "name": "stdout",
     "output_type": "stream",
     "text": [
      "4361\n"
     ]
    }
   ],
   "source": [
    "textarr = text.split('\\n')\n",
    "psum = 0\n",
    "for rownum in range(len(textarr)):\n",
    "    line = textarr[rownum]\n",
    "    colnum = 0\n",
    "    while colnum < len(line):\n",
    "        if isDigit(line, colnum):\n",
    "            length = getNumLength(line, colnum)\n",
    "            if isPartNumber(textarr, rownum, colnum, length):\n",
    "                psum += readNumber(line, colnum, length)\n",
    "            colnum += length\n",
    "        else:\n",
    "            colnum += 1\n",
    "print(psum)"
   ]
  },
  {
   "cell_type": "code",
   "execution_count": 5,
   "metadata": {},
   "outputs": [],
   "source": [
    "def isAsterisk(string, idx):\n",
    "    return string[idx] == '*'\n",
    "\n",
    "def getGearPositions(mat, rownum, colnum, length):\n",
    "    positions = []\n",
    "    for i in range(-1, length+1):\n",
    "        if colnum + i < 0 or colnum + i >= len(mat[rownum]):\n",
    "            continue\n",
    "        for j in range(-1, 2):\n",
    "            if j == 0 and ( i >= 0 and i < length):\n",
    "                continue\n",
    "            if rownum + j < 0 or rownum + j >= len(mat):\n",
    "                continue\n",
    "            if isAsterisk(mat[rownum + j], colnum + i):\n",
    "                position = (rownum + j, colnum + i)\n",
    "                positions.append(position)\n",
    "    return positions"
   ]
  },
  {
   "cell_type": "code",
   "execution_count": 6,
   "metadata": {},
   "outputs": [
    {
     "name": "stdout",
     "output_type": "stream",
     "text": [
      "467835\n"
     ]
    }
   ],
   "source": [
    "textarr = text.split('\\n')\n",
    "## list of gear positions\n",
    "gearPositions = []\n",
    "## hash table of gear values by asterisk position\n",
    "gearValuesByPosition = {}\n",
    "for rownum in range(len(textarr)):\n",
    "    line = textarr[rownum]\n",
    "    colnum = 0\n",
    "    while colnum < len(line):\n",
    "        if isDigit(line, colnum):\n",
    "            length = getNumLength(line, colnum)\n",
    "            value = readNumber(line, colnum, length)\n",
    "            positions = getGearPositions(textarr, rownum, colnum, length)\n",
    "            for pos in positions:\n",
    "                if not pos in gearValuesByPosition:\n",
    "                    gearValuesByPosition[pos] = [value]\n",
    "                    gearPositions.append(pos)\n",
    "                else:\n",
    "                    gearValuesByPosition[pos].append(value)\n",
    "            colnum += length\n",
    "        else:\n",
    "            colnum += 1\n",
    "psum = 0\n",
    "for pos in gearPositions:\n",
    "    if len(gearValuesByPosition[pos]) > 1:\n",
    "        term = 1\n",
    "        for val in gearValuesByPosition[pos]:\n",
    "            term *= val\n",
    "        psum += term\n",
    "print(psum)"
   ]
  }
 ],
 "metadata": {
  "kernelspec": {
   "display_name": "Python 3",
   "language": "python",
   "name": "python3"
  },
  "language_info": {
   "codemirror_mode": {
    "name": "ipython",
    "version": 3
   },
   "file_extension": ".py",
   "mimetype": "text/x-python",
   "name": "python",
   "nbconvert_exporter": "python",
   "pygments_lexer": "ipython3",
   "version": "3.8.5"
  }
 },
 "nbformat": 4,
 "nbformat_minor": 5
}
