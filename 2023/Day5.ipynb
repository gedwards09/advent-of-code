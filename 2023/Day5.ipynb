{
 "cells": [
  {
   "cell_type": "code",
   "execution_count": 2,
   "metadata": {},
   "outputs": [],
   "source": [
    "class Almanac:\n",
    "\n",
    "    def __init__(self, text):\n",
    "        textarr = text.split(\"\\n\\n\")\n",
    "        self._seeds = Almanac.getSeedsFromInput(textarr[0])\n",
    "        self._maps = Almanac.getMapsFromInput(textarr[1:])\n",
    "\n",
    "    def getSeedsFromInput(line):\n",
    "        seeds = []\n",
    "        for seed in line.split(' '):\n",
    "            try:\n",
    "                num = int(seed)\n",
    "            except:\n",
    "                continue\n",
    "            seeds.append(num)\n",
    "        return seeds\n",
    "            \n",
    "    def getMapsFromInput(textarr):\n",
    "        maps = [ [] for _ in range(len(textarr)) ]\n",
    "        for i in range(len(textarr)):\n",
    "            text = textarr[i]\n",
    "            for line in text.split('\\n'):\n",
    "                inputs = line.split(' ')\n",
    "                if len(inputs) != 3:\n",
    "                    continue\n",
    "                maps[i].append([int(input) for input in inputs])\n",
    "        return maps\n",
    "\n",
    "    def getDestinationForSeed(self, seed):\n",
    "        current = seed\n",
    "        for map in self._maps:\n",
    "            for dsl in map:\n",
    "                diff = current - dsl[1]\n",
    "                if diff >= 0 and diff < dsl[2]:\n",
    "                    current = dsl[0] + diff\n",
    "                    break\n",
    "        return current\n",
    "\n",
    "    def getClosestDestination(self):\n",
    "        destination = Almanac.getMaxDestination()\n",
    "        for seed in self._seeds:\n",
    "            current = self.getDestinationForSeed(seed)\n",
    "            if current < destination:\n",
    "                destination = current\n",
    "        return destination\n",
    "\n",
    "    def getMaxDestination():\n",
    "        return 1e12"
   ]
  },
  {
   "cell_type": "code",
   "execution_count": 3,
   "metadata": {},
   "outputs": [
    {
     "data": {
      "text/plain": [
       "196167384"
      ]
     },
     "execution_count": 3,
     "metadata": {},
     "output_type": "execute_result"
    }
   ],
   "source": [
    "almanac = Almanac(text)\n",
    "almanac.getClosestDestination()"
   ]
  },
  {
   "cell_type": "code",
   "execution_count": 4,
   "metadata": {},
   "outputs": [],
   "source": [
    "class RangedAlmanac(Almanac):\n",
    "\n",
    "    def __init__(self, text):\n",
    "        textarr = text.split(\"\\n\\n\")\n",
    "        self._seedRanges = RangedAlmanac.getSeedRangesFromInput(textarr[0])\n",
    "        self._maps = Almanac.getMapsFromInput(textarr[1:])\n",
    "        self._destinations = None ## delay initialization until called\n",
    "            \n",
    "    def getSeedRangesFromInput(line):\n",
    "        values = line.split(' ')[1:]\n",
    "        ranges = []\n",
    "        for i in range(0, len(values), 2):\n",
    "            ranges.append((int(values[i]), int(values[i+1])))\n",
    "        return ranges\n",
    "        \n",
    "    def initializeDestinations(self):\n",
    "        self._destinations = self.getDestinations()\n",
    "        \n",
    "    def getDestinations(self):\n",
    "        currentDomain = self._seedRanges\n",
    "        for map_ in self._maps:\n",
    "            currentDomain = RangedAlmanac.applyMapToDomain(map_, currentDomain)\n",
    "        return currentDomain\n",
    "    \n",
    "    def applyMapToDomain(map_, domain):\n",
    "        domain = RangedAlmanac.refineDomainForMap(map_, domain)\n",
    "        codomain = []\n",
    "        ## dsl = (Destination, Source, Range)\n",
    "        for dsl in map_:\n",
    "            destinationStart = dsl[0]\n",
    "            sourceStart = dsl[1]\n",
    "            length = dsl[2]\n",
    "            indices = []\n",
    "            for i in range(len(domain)):\n",
    "                range_ = domain[i]\n",
    "                rangeStart = range_[0]\n",
    "                rangeLength = range_[1]\n",
    "                if sourceStart <= rangeStart and rangeStart + rangeLength <= sourceStart + length:\n",
    "                    codomain.append((destinationStart + rangeStart - sourceStart, rangeLength))\n",
    "                    indices.append(i)\n",
    "                elif sourceStart <= rangeStart and rangeStart < sourceStart + length \\\n",
    "                and rangeStart + rangeLength > sourceStart + length:\n",
    "                    print(\"range: (%d, %d) source:(%d, %d)\" % \\\n",
    "                          (rangeStart, rangeLength, sourceStart, length) )\n",
    "                    raise Exception(\"Assert: Domain split for map failed\")\n",
    "            for index in indices[::-1]:\n",
    "                domain.pop(index)\n",
    "        codomain += domain\n",
    "        return codomain\n",
    "    \n",
    "    def refineDomainForMap(map_, domain):\n",
    "        refinedDomain = []\n",
    "        for range_ in domain:\n",
    "            refinedDomain += RangedAlmanac.refineRangeForMap(map_, range_)\n",
    "        return refinedDomain\n",
    "    \n",
    "    def refineRangeForMap(map_, range_):\n",
    "        ranges = [range_]\n",
    "        for dsl in map_:\n",
    "            nextRange = []\n",
    "            for curRange in ranges:\n",
    "                nextRange += RangedAlmanac.refineRangeForSourceRange(curRange, dsl[1:])\n",
    "            ranges = nextRange\n",
    "        return ranges\n",
    "\n",
    "    def refineRangeForSourceRange(range_, source):\n",
    "        rangeStart = range_[0]\n",
    "        rangeLength = range_[1]\n",
    "        sourceStart = source[0]\n",
    "        sourceLength = source[1]\n",
    "        ranges = []\n",
    "        if rangeStart < sourceStart and sourceStart < rangeStart + rangeLength:\n",
    "            ranges.append((rangeStart, sourceStart - rangeStart))\n",
    "            if sourceStart + sourceLength < rangeStart + rangeLength:\n",
    "                ranges.append((sourceStart, sourceLength))\n",
    "                ranges.append((sourceStart + sourceLength, \\\n",
    "                               rangeStart + rangeLength - sourceStart - sourceLength))\n",
    "            else:\n",
    "                ranges.append((sourceStart, rangeStart + rangeLength - sourceStart))\n",
    "        elif rangeStart < sourceStart + sourceLength \\\n",
    "        and sourceStart + sourceLength < rangeStart + rangeLength:\n",
    "            ranges.append((rangeStart, sourceStart + sourceLength - rangeStart))\n",
    "            ranges.append((sourceStart + sourceLength, \\\n",
    "                           rangeStart + rangeLength - sourceStart - sourceLength))\n",
    "        else:\n",
    "            ranges.append((rangeStart, rangeLength))\n",
    "        return ranges\n",
    "\n",
    "    def getClosestDestination(self):\n",
    "        if self._destinations == None:\n",
    "            self.initializeDestinations()\n",
    "        closestDestination = Almanac.getMaxDestination()\n",
    "        for destination in self._destinations:\n",
    "            if destination[0] < closestDestination:\n",
    "                closestDestination = destination[0]\n",
    "        return closestDestination"
   ]
  },
  {
   "cell_type": "code",
   "execution_count": 5,
   "metadata": {},
   "outputs": [
    {
     "data": {
      "text/plain": [
       "125742456"
      ]
     },
     "execution_count": 5,
     "metadata": {},
     "output_type": "execute_result"
    }
   ],
   "source": [
    "rangedAlmanac = RangedAlmanac(text)\n",
    "rangedAlmanac.getClosestDestination()"
   ]
  }
 ],
 "metadata": {
  "kernelspec": {
   "display_name": "Python 3",
   "language": "python",
   "name": "python3"
  },
  "language_info": {
   "codemirror_mode": {
    "name": "ipython",
    "version": 3
   },
   "file_extension": ".py",
   "mimetype": "text/x-python",
   "name": "python",
   "nbconvert_exporter": "python",
   "pygments_lexer": "ipython3",
   "version": "3.8.5"
  }
 },
 "nbformat": 4,
 "nbformat_minor": 5
}
