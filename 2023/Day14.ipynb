{
 "cells": [
  {
   "cell_type": "code",
   "execution_count": 2,
   "metadata": {},
   "outputs": [],
   "source": [
    "def tilt(mat):\n",
    "    for i in range(1, len(mat)):\n",
    "        for j in range(i):\n",
    "            roll(mat[i - j], mat[i - j - 1])\n",
    "\n",
    "def roll(source, destination):\n",
    "    if len(source) != len(destination):\n",
    "        raise Exception(\"roll:Cannot be used on lists of different length\")\n",
    "    for i in range(len(source)):\n",
    "        if source[i] == 'O' and destination[i] == '.':\n",
    "            destination[i] = 'O'\n",
    "            source[i] = '.'\n",
    "            \n",
    "def calculateLoad(mat):\n",
    "    nrows = len(mat)\n",
    "    load = 0\n",
    "    for i in range(nrows):\n",
    "        row = mat[nrows - i - 1]\n",
    "        load += (i + 1) * countStones(row)\n",
    "    return load\n",
    "        \n",
    "def countStones(row):\n",
    "    count = 0\n",
    "    for char in row:\n",
    "        if char == 'O':\n",
    "            count += 1\n",
    "    return count"
   ]
  },
  {
   "cell_type": "code",
   "execution_count": 3,
   "metadata": {},
   "outputs": [
    {
     "data": {
      "text/plain": [
       "106378"
      ]
     },
     "execution_count": 3,
     "metadata": {},
     "output_type": "execute_result"
    }
   ],
   "source": [
    "lines = text.split('\\n')\n",
    "mat = [list(line) for line in lines]\n",
    "tilt(mat)\n",
    "calculateLoad(mat)"
   ]
  },
  {
   "cell_type": "code",
   "execution_count": 4,
   "metadata": {},
   "outputs": [],
   "source": [
    "def cycle(mat, times):\n",
    "    memo ={}\n",
    "    cycleStartHash = None\n",
    "    cycleLength = 0\n",
    "    cycling = False\n",
    "    i = 0\n",
    "    while i < times:\n",
    "        if cycleStartHash != None and cycling:\n",
    "            cycleLength += 1\n",
    "        hash_ = getMatHash(mat)\n",
    "        if hash_ in memo:\n",
    "            if cycleStartHash == None:\n",
    "                cycleStartHash = hash_\n",
    "                cycling = True\n",
    "            elif hash_ == cycleStartHash:\n",
    "                cycling = False\n",
    "                n = (times - i) // cycleLength\n",
    "                i += n * cycleLength\n",
    "            mat = getMatFromString(memo[hash_])\n",
    "        else:\n",
    "            rCycle(mat)\n",
    "            memo[hash_] = getMatString(mat)\n",
    "        i += 1\n",
    "    return mat\n",
    "    \n",
    "def getMatHash(mat):\n",
    "    return hash(getMatString(mat))\n",
    "    \n",
    "def getMatString(mat):\n",
    "    return '\\n'.join([ ''.join(row) for row in mat ])\n",
    "\n",
    "def getMatFromString(text):\n",
    "    return [[char for char in line] for line in text.split('\\n')]\n",
    "\n",
    "def rCycle(mat):\n",
    "    tiltNorth(mat)\n",
    "    tiltWest(mat)\n",
    "    tiltSouth(mat)\n",
    "    tiltEast(mat)\n",
    "\n",
    "def tiltNorth(mat):\n",
    "    tilt(mat)\n",
    "\n",
    "def tiltSouth(mat):\n",
    "    tilt(mat[::-1])\n",
    "    \n",
    "def tiltWest(mat):\n",
    "    ncol = len(mat[0])\n",
    "    for j in range(1, ncol):\n",
    "        for k in range(j):\n",
    "            rollColumn(mat, j - k, j - k - 1)\n",
    "            \n",
    "def rollColumn(mat, sourceCol, destCol):\n",
    "    for i in range(len(mat)):\n",
    "        if mat[i][sourceCol] == 'O' and mat[i][destCol] == '.':\n",
    "            mat[i][sourceCol] = '.'\n",
    "            mat[i][destCol] = 'O'\n",
    "\n",
    "def tiltEast(mat):\n",
    "    ncol = len(mat[0])\n",
    "    for j in range(ncol - 1, -1, -1):\n",
    "        for k in range(ncol - j - 1):\n",
    "            rollColumn(mat, j + k, j + k + 1)"
   ]
  },
  {
   "cell_type": "code",
   "execution_count": 5,
   "metadata": {},
   "outputs": [
    {
     "data": {
      "text/plain": [
       "90795"
      ]
     },
     "execution_count": 5,
     "metadata": {},
     "output_type": "execute_result"
    }
   ],
   "source": [
    "mat = [list(line) for line in text.split('\\n')]\n",
    "mat = cycle(mat, 1_000_000_000)\n",
    "calculateLoad(mat)"
   ]
  }
 ],
 "metadata": {
  "kernelspec": {
   "display_name": "Python 3",
   "language": "python",
   "name": "python3"
  },
  "language_info": {
   "codemirror_mode": {
    "name": "ipython",
    "version": 3
   },
   "file_extension": ".py",
   "mimetype": "text/x-python",
   "name": "python",
   "nbconvert_exporter": "python",
   "pygments_lexer": "ipython3",
   "version": "3.8.5"
  }
 },
 "nbformat": 4,
 "nbformat_minor": 4
}
